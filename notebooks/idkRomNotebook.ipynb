{
 "cells": [
  {
   "cell_type": "markdown",
   "metadata": {},
   "source": [
    "# <span style=\"color: lightblue;\">Ejemplo de uso de la librería IDKRom sobre un dataset de inputs y outputs en formato csv proveniente de un modelo de IDKFem.</span>"
   ]
  },
  {
   "cell_type": "markdown",
   "metadata": {},
   "source": [
    "1. Importamos los datos "
   ]
  },
  {
   "cell_type": "code",
   "execution_count": 35,
   "metadata": {},
   "outputs": [
    {
     "name": "stdout",
     "output_type": "stream",
     "text": [
      "d:\\\n",
      "d:\\idkROM\n",
      "Rutas en sys.path:\n",
      "C:\\Users\\aalvarezsanz\\AppData\\Local\\Programs\\Python\\Python312\\python312.zip\n",
      "C:\\Users\\aalvarezsanz\\AppData\\Local\\Programs\\Python\\Python312\\DLLs\n",
      "C:\\Users\\aalvarezsanz\\AppData\\Local\\Programs\\Python\\Python312\\Lib\n",
      "C:\\Users\\aalvarezsanz\\AppData\\Local\\Programs\\Python\\Python312\n",
      "d:\\idkROM\\idkROM\\virtual_env\n",
      "\n",
      "d:\\idkROM\\idkROM\\virtual_env\\Lib\\site-packages\n",
      "d:\\idkROM\\idkROM\\virtual_env\\Lib\\site-packages\\win32\n",
      "d:\\idkROM\\idkROM\\virtual_env\\Lib\\site-packages\\win32\\lib\n",
      "d:\\idkROM\\idkROM\\virtual_env\\Lib\\site-packages\\Pythonwin\n",
      "d:\\idkROM\n",
      "d:\\idkROM\\idkROM\n",
      "d:\\idkROM\\idkROM\\virtual_env\\Lib\\site-packages\\setuptools\\_vendor\n",
      "d:\\\n",
      "d:\\idkROM\n",
      "d:\\\n",
      "d:\\idkROM\n"
     ]
    }
   ],
   "source": [
    "import sys\n",
    "import os\n",
    "\n",
    "# Agrega la carpeta raíz (un nivel arriba de 'notebooks')\n",
    "sys.path.append(os.path.abspath('../..')) # para añadir idkROM al path\n",
    "print(os.path.abspath('../..'))\n",
    "sys.path.append(os.path.abspath('../')) # para añadir src al path\n",
    "print(os.path.abspath('../'))\n",
    "\n",
    "# Verifica la ruta actual\n",
    "print(\"Rutas en sys.path:\")\n",
    "for path in sys.path:\n",
    "    print(path)\n"
   ]
  },
  {
   "cell_type": "code",
   "execution_count": 36,
   "metadata": {},
   "outputs": [],
   "source": [
    "import sys\n",
    "import os\n",
    "import joblib\n",
    "import pandas as pd\n",
    "from PyQt6.QtWidgets import QApplication\n",
    "#from src.gui.main_window import ROMApp  # Asegúrate de que este archivo es el correcto\n",
    "from idkROM.src.loader.import_data import DataLoader as idkROMDataLoader\n",
    "from idkROM.src.pre.preprocessing import Pre as idkROMPreprocessing\n",
    "from idkROM.src.models.neural_network import NeuralNetworkROM as idkROMNeuralNetwork\n",
    "from idkROM.src.models.gaussian_process import GaussianProcessROM as idkROMGaussianProcess\n",
    "from idkROM.src.models.rbf import RBFROM as idkROMRBF\n",
    "from idkROM.src.models.polynomial_response_surface import PolynomialResponseSurface as idkROMPolynomialResponseSurface\n",
    "from idkROM.src.models.svr import SVRROM as idkROMSVR\n",
    "from idkROM.src.tools.search_hyperparams import search_best_hyperparameters as idkROMHyperparameterTuner\n",
    "from idkROM.src.visualization.metrics import ModelReportGenerator as idkROMMetrics\n",
    "from sklearn.metrics import mean_squared_error, r2_score\n",
    "\n"
   ]
  },
  {
   "cell_type": "markdown",
   "metadata": {},
   "source": [
    "Cargamos el dataset como dataframe"
   ]
  },
  {
   "cell_type": "code",
   "execution_count": 37,
   "metadata": {},
   "outputs": [
    {
     "name": "stdout",
     "output_type": "stream",
     "text": [
      "El dataset es de dimension (600, 25)\n",
      "        l_r_i     l_r_e  apert_pad_i   c_pad_i  apert_pad_e   c_pad_e  \\\n",
      "0    1.468817  0.286561    39.416713  0.033561    13.996338  0.037757   \n",
      "1    0.875406  1.419291    39.837686  0.032805    17.993482  0.031606   \n",
      "2    1.458757  1.451980    39.340334  0.032473    17.928236  0.027797   \n",
      "3    1.480852  1.487696    31.702992  0.044865    10.476735  0.030013   \n",
      "4    0.661810  0.251605    39.641655  0.032871    13.872995  0.043076   \n",
      "..        ...       ...          ...       ...          ...       ...   \n",
      "595  0.877197  1.467791    39.191633  0.044232    10.355015  0.025288   \n",
      "596  1.074398  0.252414    36.717214  0.031243    14.387166  0.044293   \n",
      "597  1.125762  0.519053    32.396154  0.031727    12.135729  0.026094   \n",
      "598  0.408424  0.254989    31.965778  0.033707    17.722209  0.025003   \n",
      "599  0.315469  0.860937    33.204750  0.029113    14.326586  0.043415   \n",
      "\n",
      "        p_pieza    F_total_int   F_total_ext  Q_total_int  ...       P_sd_int  \\\n",
      "0     89.501361  287838.883069  9.459357e+05     0.000033  ...  456415.190549   \n",
      "1     25.470842  197188.935308  4.090866e+05     0.000065  ...  305634.721742   \n",
      "2     80.784985  341738.968974  8.066150e+05     0.000031  ...  534284.775108   \n",
      "3     39.874411  223953.671574  5.234755e+05     0.000028  ...  529147.656660   \n",
      "4     25.721238  122502.746404  4.862269e+05     0.000096  ...  191269.929583   \n",
      "..          ...            ...           ...          ...  ...            ...   \n",
      "595   39.174392  258943.660565  4.816267e+05     0.000053  ...  479500.592292   \n",
      "596   55.641275  181169.161200  7.207770e+05     0.000053  ...  298887.407642   \n",
      "597   80.169330  310129.035996  8.321905e+05     0.000036  ...  586681.650812   \n",
      "598  122.988264  418481.752510  1.143464e+06     0.000065  ...  845588.932659   \n",
      "599  109.194684  447819.191215  9.789506e+05     0.000094  ...  815997.868275   \n",
      "\n",
      "          P_sd_ext  h_min_int  h_min_ext  h_mean_int  h_mean_ext  h_max_int  \\\n",
      "0    509892.046053   0.000045   0.000064    0.000046    0.000070   0.000047   \n",
      "1    155397.195245   0.000063   0.000058    0.000064    0.000059   0.000065   \n",
      "2    290693.090031   0.000041   0.000042    0.000042    0.000044   0.000044   \n",
      "3    340058.921663   0.000048   0.000047    0.000050    0.000050   0.000052   \n",
      "4    274992.864337   0.000085   0.000099    0.000086    0.000102   0.000086   \n",
      "..             ...        ...        ...         ...         ...        ...   \n",
      "595  292715.320796   0.000057   0.000046    0.000059    0.000049   0.000060   \n",
      "596  393772.259408   0.000060   0.000081    0.000061    0.000086   0.000061   \n",
      "597  426442.324804   0.000043   0.000051    0.000045    0.000056   0.000047   \n",
      "598  393226.049319   0.000047   0.000061    0.000050    0.000065   0.000052   \n",
      "599  529061.071350   0.000050   0.000045    0.000053    0.000050   0.000055   \n",
      "\n",
      "     h_max_ext      h_sd_int      h_sd_ext  \n",
      "0     0.000074  6.002686e-07  2.231359e-06  \n",
      "1     0.000061  4.068688e-07  6.126622e-07  \n",
      "2     0.000046  7.193707e-07  9.390173e-07  \n",
      "3     0.000052  9.432712e-07  1.364873e-06  \n",
      "4     0.000105  2.414942e-07  1.399647e-06  \n",
      "..         ...           ...           ...  \n",
      "595   0.000051  7.599123e-07  1.284410e-06  \n",
      "596   0.000089  3.901002e-07  1.861770e-06  \n",
      "597   0.000059  9.192432e-07  1.910411e-06  \n",
      "598   0.000068  1.377695e-06  1.681050e-06  \n",
      "599   0.000054  1.386131e-06  2.200132e-06  \n",
      "\n",
      "[600 rows x 25 columns]\n"
     ]
    }
   ],
   "source": [
    "\n",
    "file_path = \"D:\\\\idkROM\\\\idkROM\\\\data\\\\main_HydrTable_DOE_Results_0601_1200 (2).csv\"\n",
    "data_source = \"raw\"\n",
    "df = idkROMDataLoader().load_data(file_path, data_source)\n",
    "print(f\"El dataset es de dimension {df.shape}\")\n",
    "print(df)"
   ]
  },
  {
   "cell_type": "markdown",
   "metadata": {},
   "source": [
    "2. Spliteamos el dataset con las proporciones deseadas"
   ]
  },
  {
   "cell_type": "markdown",
   "metadata": {},
   "source": [
    "hay que tener en cuenta que nuestro dataset tiene 7 variables de entrada y 18 de salida, lo cual puede variar en función del dataset"
   ]
  },
  {
   "cell_type": "code",
   "execution_count": 38,
   "metadata": {},
   "outputs": [
    {
     "name": "stdout",
     "output_type": "stream",
     "text": [
      "Las dimensiones de cada subconjunto son:\n",
      "X_train: (420, 7)\n",
      "y_train: (420, 18)\n",
      "X_val: (90, 7)\n",
      "y_val: (90, 18)\n",
      "X_test: (90, 7)\n",
      "y_test: (90, 18)\n"
     ]
    }
   ],
   "source": [
    "last_input_var = 7\n",
    "X_train, y_train, X_val, y_val, X_test, y_test = idkROMPreprocessing().split_dataset(df, last_input_var) # añadir proporciones de train, validation y test manualmente (70%, 15% y 15%)\n",
    "\n",
    "print(\"Las dimensiones de cada subconjunto son:\")\n",
    "print(f\"X_train: {X_train.shape}\")\n",
    "print(f\"y_train: {y_train.shape}\")\n",
    "print(f\"X_val: {X_val.shape}\")\n",
    "print(f\"y_val: {y_val.shape}\")\n",
    "print(f\"X_test: {X_test.shape}\")\n",
    "print(f\"y_test: {y_test.shape}\")"
   ]
  },
  {
   "cell_type": "markdown",
   "metadata": {},
   "source": [
    "3. Para acabar el preprocesamiento, filtramos los outliers y aplicamos un scaler a los inputs y otro a los outputs."
   ]
  },
  {
   "cell_type": "code",
   "execution_count": 39,
   "metadata": {},
   "outputs": [
    {
     "name": "stdout",
     "output_type": "stream",
     "text": [
      "Original minimums of the outputs: [ 8.62532765e+04  3.35811190e+05 -6.16181137e-08  3.04891152e-05\n",
      "  1.43860812e+05  1.42444489e+05  3.15157452e+05  2.66705241e+05\n",
      "  1.48387697e+05  1.27600643e+05  8.14512448e-06  1.00000000e-06\n",
      "  1.19024249e-05  2.84012201e-05  1.65790696e-05  3.26754884e-05\n",
      "  1.64703568e-07  2.77592536e-07]\n",
      "Original maximums of the outputs: [6.30155753e+05 1.61010055e+06 2.28776982e-04 5.77530561e-04\n",
      " 9.81931637e+05 7.51638249e+05 3.52748811e+06 2.42088211e+07\n",
      " 1.22648041e+06 1.91670601e+06 9.54379552e-05 9.86070528e-05\n",
      " 9.66085958e-05 1.01925486e-04 9.76537755e-05 1.19740633e-04\n",
      " 6.92199520e-06 2.57761682e-05]\n",
      "Preprocessed data saved.\n",
      "X_train_normalized: (419, 7)\n"
     ]
    }
   ],
   "source": [
    "\n",
    "# para decirle al script que busque en la carpeta d:\\idkROM\\idkROM\\results, y no en la carpeta d:\\idkROM\\idkROM\\notebooks\\results (necesario para encontrar el scaler en filter_and_scale)\n",
    "original_cwd = os.getcwd()\n",
    "\n",
    "os.chdir(os.path.abspath('../'))\n",
    "\n",
    "(X_train_normalized, y_train_normalized,\n",
    "        X_val_normalized, y_val_normalized,\n",
    "        X_test_normalized, y_test_normalized) = idkROMPreprocessing().filter_and_scale(X_train, y_train, X_val, y_val,\n",
    "                                                                             X_test, y_test, scaler_type='minmax')\n",
    "\n",
    "print(f\"X_train_normalized: {X_train_normalized.shape}\")\n",
    "\n"
   ]
  },
  {
   "cell_type": "markdown",
   "metadata": {},
   "source": [
    "4. Selección de hiperparametros"
   ]
  },
  {
   "cell_type": "markdown",
   "metadata": {},
   "source": [
    "De momento utilizamos una funcion search_best_hyperparameters. Proporcionamos un set de rangos de hiperparametros para cada modelo, y en funcion del modelo que elijamos, la funcion llevará a cabo una randomized_search para encontrar el conjunto de hiperparametros que de el error más bajo."
   ]
  },
  {
   "cell_type": "markdown",
   "metadata": {},
   "source": []
  },
  {
   "cell_type": "markdown",
   "metadata": {},
   "source": [
    "4.1 Neural network"
   ]
  },
  {
   "cell_type": "markdown",
   "metadata": {},
   "source": [
    "4.1.1 NN Hyperparams"
   ]
  },
  {
   "cell_type": "code",
   "execution_count": 40,
   "metadata": {},
   "outputs": [
    {
     "name": "stdout",
     "output_type": "stream",
     "text": [
      "Shape of X_train: (419, 7)\n",
      "Shape of y_train: (419, 18)\n",
      "Epoch 0/1000, Training Loss: 0.236549, Validation Loss: 0.207289\n",
      "Epoch 100/1000, Training Loss: 0.025462, Validation Loss: 0.016659\n",
      "Epoch 200/1000, Training Loss: 0.016776, Validation Loss: 0.011360\n",
      "Epoch 300/1000, Training Loss: 0.015844, Validation Loss: 0.010621\n",
      "Epoch 400/1000, Training Loss: 0.015530, Validation Loss: 0.010060\n",
      "Epoch 500/1000, Training Loss: 0.014754, Validation Loss: 0.010149\n",
      "Epoch 600/1000, Training Loss: 0.014641, Validation Loss: 0.009847\n",
      "Epoch 700/1000, Training Loss: 0.013823, Validation Loss: 0.009872\n",
      "Epoch 800/1000, Training Loss: 0.014045, Validation Loss: 0.009576\n",
      "Epoch 900/1000, Training Loss: 0.014032, Validation Loss: 0.009159\n",
      "Modelo guardado en: d:\\idkROM\\results\\neural_network\\neural_network_model.pth\n",
      "Epoch 0/1000, Training Loss: 0.256323, Validation Loss: 0.229763\n",
      "Epoch 100/1000, Training Loss: 0.020000, Validation Loss: 0.012904\n",
      "Epoch 200/1000, Training Loss: 0.015564, Validation Loss: 0.010599\n",
      "Epoch 300/1000, Training Loss: 0.014518, Validation Loss: 0.009851\n",
      "Epoch 400/1000, Training Loss: 0.013545, Validation Loss: 0.009618\n",
      "Epoch 500/1000, Training Loss: 0.013662, Validation Loss: 0.009464\n",
      "Epoch 600/1000, Training Loss: 0.013367, Validation Loss: 0.009386\n",
      "Epoch 700/1000, Training Loss: 0.013290, Validation Loss: 0.009123\n",
      "Epoch 800/1000, Training Loss: 0.012963, Validation Loss: 0.008902\n",
      "Epoch 900/1000, Training Loss: 0.013011, Validation Loss: 0.008847\n",
      "Modelo guardado en: d:\\idkROM\\results\\neural_network\\neural_network_model.pth\n",
      "Epoch 0/1000, Training Loss: 0.245177, Validation Loss: 0.225204\n",
      "Epoch 100/1000, Training Loss: 0.029124, Validation Loss: 0.024732\n",
      "Epoch 200/1000, Training Loss: 0.016273, Validation Loss: 0.010207\n",
      "Epoch 300/1000, Training Loss: 0.014895, Validation Loss: 0.008919\n",
      "Epoch 400/1000, Training Loss: 0.013557, Validation Loss: 0.008836\n",
      "Epoch 500/1000, Training Loss: 0.013160, Validation Loss: 0.008758\n",
      "Epoch 600/1000, Training Loss: 0.012890, Validation Loss: 0.008685\n",
      "Epoch 700/1000, Training Loss: 0.013014, Validation Loss: 0.008502\n",
      "Epoch 800/1000, Training Loss: 0.012768, Validation Loss: 0.008423\n",
      "Epoch 900/1000, Training Loss: 0.012852, Validation Loss: 0.008297\n",
      "Modelo guardado en: d:\\idkROM\\results\\neural_network\\neural_network_model.pth\n",
      "Epoch 0/1000, Training Loss: 0.242906, Validation Loss: 0.218931\n",
      "Epoch 100/1000, Training Loss: 0.028909, Validation Loss: 0.021435\n",
      "Epoch 200/1000, Training Loss: 0.017915, Validation Loss: 0.011687\n",
      "Epoch 300/1000, Training Loss: 0.016237, Validation Loss: 0.010973\n",
      "Epoch 400/1000, Training Loss: 0.014538, Validation Loss: 0.010585\n",
      "Epoch 500/1000, Training Loss: 0.014130, Validation Loss: 0.010113\n",
      "Epoch 600/1000, Training Loss: 0.014440, Validation Loss: 0.009744\n",
      "Epoch 700/1000, Training Loss: 0.014547, Validation Loss: 0.009586\n",
      "Epoch 800/1000, Training Loss: 0.014013, Validation Loss: 0.009516\n",
      "Epoch 900/1000, Training Loss: 0.013263, Validation Loss: 0.009365\n",
      "Modelo guardado en: d:\\idkROM\\results\\neural_network\\neural_network_model.pth\n",
      "Epoch 0/1000, Training Loss: 0.210341, Validation Loss: 0.188918\n",
      "Epoch 100/1000, Training Loss: 0.021257, Validation Loss: 0.013705\n",
      "Epoch 200/1000, Training Loss: 0.016823, Validation Loss: 0.011256\n",
      "Epoch 300/1000, Training Loss: 0.014831, Validation Loss: 0.009900\n",
      "Epoch 400/1000, Training Loss: 0.013979, Validation Loss: 0.009692\n",
      "Epoch 500/1000, Training Loss: 0.014208, Validation Loss: 0.009558\n",
      "Epoch 600/1000, Training Loss: 0.013461, Validation Loss: 0.009521\n",
      "Epoch 700/1000, Training Loss: 0.014140, Validation Loss: 0.009419\n",
      "Epoch 800/1000, Training Loss: 0.013466, Validation Loss: 0.009170\n",
      "Epoch 900/1000, Training Loss: 0.013546, Validation Loss: 0.009035\n",
      "Modelo guardado en: d:\\idkROM\\results\\neural_network\\neural_network_model.pth\n",
      "Epoch 0/1000, Training Loss: 0.203998, Validation Loss: 0.192260\n",
      "Epoch 100/1000, Training Loss: 0.016043, Validation Loss: 0.008725\n",
      "Epoch 200/1000, Training Loss: 0.011957, Validation Loss: 0.006010\n",
      "Epoch 300/1000, Training Loss: 0.010633, Validation Loss: 0.005858\n",
      "Epoch 400/1000, Training Loss: 0.009641, Validation Loss: 0.005775\n",
      "Epoch 500/1000, Training Loss: 0.009908, Validation Loss: 0.005748\n",
      "Epoch 600/1000, Training Loss: 0.010543, Validation Loss: 0.005589\n",
      "Epoch 700/1000, Training Loss: 0.009573, Validation Loss: 0.005607\n",
      "Epoch 800/1000, Training Loss: 0.010498, Validation Loss: 0.005346\n",
      "Epoch 900/1000, Training Loss: 0.010610, Validation Loss: 0.005450\n",
      "Modelo guardado en: d:\\idkROM\\results\\neural_network\\neural_network_model.pth\n",
      "Epoch 0/1000, Training Loss: 0.149090, Validation Loss: 0.139299\n",
      "Epoch 100/1000, Training Loss: 0.014620, Validation Loss: 0.010143\n",
      "Epoch 200/1000, Training Loss: 0.011384, Validation Loss: 0.006683\n",
      "Epoch 300/1000, Training Loss: 0.010316, Validation Loss: 0.005702\n",
      "Epoch 400/1000, Training Loss: 0.010117, Validation Loss: 0.005324\n",
      "Epoch 500/1000, Training Loss: 0.009807, Validation Loss: 0.005365\n",
      "Epoch 600/1000, Training Loss: 0.010377, Validation Loss: 0.005227\n",
      "Epoch 700/1000, Training Loss: 0.010498, Validation Loss: 0.005282\n",
      "Epoch 800/1000, Training Loss: 0.009346, Validation Loss: 0.005330\n",
      "Epoch 900/1000, Training Loss: 0.009184, Validation Loss: 0.005197\n",
      "Modelo guardado en: d:\\idkROM\\results\\neural_network\\neural_network_model.pth\n",
      "Epoch 0/1000, Training Loss: 0.182171, Validation Loss: 0.173997\n",
      "Epoch 100/1000, Training Loss: 0.015781, Validation Loss: 0.007967\n",
      "Epoch 200/1000, Training Loss: 0.010559, Validation Loss: 0.004741\n",
      "Epoch 300/1000, Training Loss: 0.009355, Validation Loss: 0.004310\n",
      "Epoch 400/1000, Training Loss: 0.008332, Validation Loss: 0.004216\n",
      "Epoch 500/1000, Training Loss: 0.009921, Validation Loss: 0.003750\n",
      "Epoch 600/1000, Training Loss: 0.008682, Validation Loss: 0.003751\n",
      "Epoch 700/1000, Training Loss: 0.008522, Validation Loss: 0.003964\n",
      "Epoch 800/1000, Training Loss: 0.008620, Validation Loss: 0.003901\n",
      "Epoch 900/1000, Training Loss: 0.008276, Validation Loss: 0.004069\n",
      "Modelo guardado en: d:\\idkROM\\results\\neural_network\\neural_network_model.pth\n",
      "Epoch 0/1000, Training Loss: 0.192657, Validation Loss: 0.175053\n",
      "Epoch 100/1000, Training Loss: 0.015525, Validation Loss: 0.008878\n",
      "Epoch 200/1000, Training Loss: 0.011280, Validation Loss: 0.006411\n",
      "Epoch 300/1000, Training Loss: 0.011074, Validation Loss: 0.005949\n",
      "Epoch 400/1000, Training Loss: 0.010544, Validation Loss: 0.005727\n",
      "Epoch 500/1000, Training Loss: 0.009687, Validation Loss: 0.005387\n",
      "Epoch 600/1000, Training Loss: 0.009494, Validation Loss: 0.005138\n",
      "Epoch 700/1000, Training Loss: 0.009742, Validation Loss: 0.005002\n",
      "Epoch 800/1000, Training Loss: 0.009380, Validation Loss: 0.004842\n",
      "Epoch 900/1000, Training Loss: 0.009639, Validation Loss: 0.004758\n",
      "Modelo guardado en: d:\\idkROM\\results\\neural_network\\neural_network_model.pth\n",
      "Epoch 0/1000, Training Loss: 0.162941, Validation Loss: 0.151895\n",
      "Epoch 100/1000, Training Loss: 0.015199, Validation Loss: 0.008860\n",
      "Epoch 200/1000, Training Loss: 0.011041, Validation Loss: 0.006293\n",
      "Epoch 300/1000, Training Loss: 0.009321, Validation Loss: 0.005629\n",
      "Epoch 400/1000, Training Loss: 0.009109, Validation Loss: 0.004971\n",
      "Epoch 500/1000, Training Loss: 0.009091, Validation Loss: 0.004933\n",
      "Epoch 600/1000, Training Loss: 0.009284, Validation Loss: 0.004559\n",
      "Epoch 700/1000, Training Loss: 0.009455, Validation Loss: 0.004727\n",
      "Epoch 800/1000, Training Loss: 0.008912, Validation Loss: 0.004588\n",
      "Epoch 900/1000, Training Loss: 0.008882, Validation Loss: 0.004612\n",
      "Modelo guardado en: d:\\idkROM\\results\\neural_network\\neural_network_model.pth\n",
      "Epoch 0/1000, Training Loss: 0.163319, Validation Loss: 0.152698\n",
      "Epoch 100/1000, Training Loss: 0.037087, Validation Loss: 0.025176\n",
      "Epoch 200/1000, Training Loss: 0.018069, Validation Loss: 0.008909\n",
      "Epoch 300/1000, Training Loss: 0.012336, Validation Loss: 0.005823\n",
      "Epoch 400/1000, Training Loss: 0.010030, Validation Loss: 0.004947\n",
      "Epoch 500/1000, Training Loss: 0.009209, Validation Loss: 0.004488\n",
      "Epoch 600/1000, Training Loss: 0.008444, Validation Loss: 0.004265\n",
      "Epoch 700/1000, Training Loss: 0.007833, Validation Loss: 0.004146\n",
      "Epoch 800/1000, Training Loss: 0.007875, Validation Loss: 0.004066\n",
      "Epoch 900/1000, Training Loss: 0.007163, Validation Loss: 0.004007\n",
      "Modelo guardado en: d:\\idkROM\\results\\neural_network\\neural_network_model.pth\n",
      "Epoch 0/1000, Training Loss: 0.234924, Validation Loss: 0.221155\n",
      "Epoch 100/1000, Training Loss: 0.039959, Validation Loss: 0.024627\n",
      "Epoch 200/1000, Training Loss: 0.022051, Validation Loss: 0.010566\n",
      "Epoch 300/1000, Training Loss: 0.015921, Validation Loss: 0.006567\n",
      "Epoch 400/1000, Training Loss: 0.012618, Validation Loss: 0.005198\n",
      "Epoch 500/1000, Training Loss: 0.011018, Validation Loss: 0.004655\n",
      "Epoch 600/1000, Training Loss: 0.009535, Validation Loss: 0.004353\n",
      "Epoch 700/1000, Training Loss: 0.008663, Validation Loss: 0.004191\n",
      "Epoch 800/1000, Training Loss: 0.007923, Validation Loss: 0.004096\n",
      "Epoch 900/1000, Training Loss: 0.007577, Validation Loss: 0.004031\n",
      "Modelo guardado en: d:\\idkROM\\results\\neural_network\\neural_network_model.pth\n",
      "Epoch 0/1000, Training Loss: 0.221410, Validation Loss: 0.212196\n",
      "Epoch 100/1000, Training Loss: 0.038262, Validation Loss: 0.026525\n",
      "Epoch 200/1000, Training Loss: 0.020737, Validation Loss: 0.011067\n",
      "Epoch 300/1000, Training Loss: 0.013907, Validation Loss: 0.005741\n",
      "Epoch 400/1000, Training Loss: 0.010851, Validation Loss: 0.004480\n",
      "Epoch 500/1000, Training Loss: 0.009540, Validation Loss: 0.003936\n",
      "Epoch 600/1000, Training Loss: 0.007838, Validation Loss: 0.003587\n",
      "Epoch 700/1000, Training Loss: 0.007421, Validation Loss: 0.003381\n",
      "Epoch 800/1000, Training Loss: 0.006860, Validation Loss: 0.003267\n",
      "Epoch 900/1000, Training Loss: 0.005995, Validation Loss: 0.003218\n",
      "Modelo guardado en: d:\\idkROM\\results\\neural_network\\neural_network_model.pth\n",
      "Epoch 0/1000, Training Loss: 0.207185, Validation Loss: 0.197611\n",
      "Epoch 100/1000, Training Loss: 0.039031, Validation Loss: 0.026329\n",
      "Epoch 200/1000, Training Loss: 0.019823, Validation Loss: 0.010388\n",
      "Epoch 300/1000, Training Loss: 0.013568, Validation Loss: 0.005815\n",
      "Epoch 400/1000, Training Loss: 0.011455, Validation Loss: 0.004889\n",
      "Epoch 500/1000, Training Loss: 0.010364, Validation Loss: 0.004557\n",
      "Epoch 600/1000, Training Loss: 0.009254, Validation Loss: 0.004367\n",
      "Epoch 700/1000, Training Loss: 0.009289, Validation Loss: 0.004306\n",
      "Epoch 800/1000, Training Loss: 0.008341, Validation Loss: 0.004224\n",
      "Epoch 900/1000, Training Loss: 0.007977, Validation Loss: 0.004147\n",
      "Modelo guardado en: d:\\idkROM\\results\\neural_network\\neural_network_model.pth\n",
      "Epoch 0/1000, Training Loss: 0.199781, Validation Loss: 0.188796\n",
      "Epoch 100/1000, Training Loss: 0.033305, Validation Loss: 0.022446\n",
      "Epoch 200/1000, Training Loss: 0.017786, Validation Loss: 0.008806\n",
      "Epoch 300/1000, Training Loss: 0.012681, Validation Loss: 0.005763\n",
      "Epoch 400/1000, Training Loss: 0.011159, Validation Loss: 0.004874\n",
      "Epoch 500/1000, Training Loss: 0.009375, Validation Loss: 0.004434\n",
      "Epoch 600/1000, Training Loss: 0.009061, Validation Loss: 0.004242\n",
      "Epoch 700/1000, Training Loss: 0.008417, Validation Loss: 0.004112\n",
      "Epoch 800/1000, Training Loss: 0.007688, Validation Loss: 0.004018\n",
      "Epoch 900/1000, Training Loss: 0.007128, Validation Loss: 0.003982\n",
      "Modelo guardado en: d:\\idkROM\\results\\neural_network\\neural_network_model.pth\n",
      "Epoch 0/1000, Training Loss: 0.218795, Validation Loss: 0.207186\n",
      "Epoch 100/1000, Training Loss: 0.089438, Validation Loss: 0.070601\n",
      "Epoch 200/1000, Training Loss: 0.055992, Validation Loss: 0.038999\n",
      "Epoch 300/1000, Training Loss: 0.045334, Validation Loss: 0.034269\n",
      "Epoch 400/1000, Training Loss: 0.040570, Validation Loss: 0.032909\n",
      "Epoch 500/1000, Training Loss: 0.038037, Validation Loss: 0.031747\n",
      "Epoch 600/1000, Training Loss: 0.031632, Validation Loss: 0.027153\n",
      "Epoch 700/1000, Training Loss: 0.021992, Validation Loss: 0.014486\n",
      "Epoch 800/1000, Training Loss: 0.020635, Validation Loss: 0.012877\n",
      "Epoch 900/1000, Training Loss: 0.018392, Validation Loss: 0.012469\n",
      "Modelo guardado en: d:\\idkROM\\results\\neural_network\\neural_network_model.pth\n",
      "Epoch 0/1000, Training Loss: 0.359899, Validation Loss: 0.343294\n",
      "Epoch 100/1000, Training Loss: 0.150569, Validation Loss: 0.134028\n",
      "Epoch 200/1000, Training Loss: 0.070459, Validation Loss: 0.046839\n",
      "Epoch 300/1000, Training Loss: 0.053549, Validation Loss: 0.034843\n",
      "Epoch 400/1000, Training Loss: 0.043901, Validation Loss: 0.031213\n",
      "Epoch 500/1000, Training Loss: 0.035782, Validation Loss: 0.025506\n",
      "Epoch 600/1000, Training Loss: 0.028777, Validation Loss: 0.018352\n",
      "Epoch 700/1000, Training Loss: 0.024713, Validation Loss: 0.014734\n",
      "Epoch 800/1000, Training Loss: 0.022755, Validation Loss: 0.013646\n",
      "Epoch 900/1000, Training Loss: 0.019665, Validation Loss: 0.013197\n",
      "Modelo guardado en: d:\\idkROM\\results\\neural_network\\neural_network_model.pth\n",
      "Epoch 0/1000, Training Loss: 0.182217, Validation Loss: 0.167891\n",
      "Epoch 100/1000, Training Loss: 0.069445, Validation Loss: 0.056735\n",
      "Epoch 200/1000, Training Loss: 0.045595, Validation Loss: 0.033935\n",
      "Epoch 300/1000, Training Loss: 0.037083, Validation Loss: 0.029971\n",
      "Epoch 400/1000, Training Loss: 0.030167, Validation Loss: 0.024028\n",
      "Epoch 500/1000, Training Loss: 0.025013, Validation Loss: 0.016665\n",
      "Epoch 600/1000, Training Loss: 0.021123, Validation Loss: 0.014135\n",
      "Epoch 700/1000, Training Loss: 0.019828, Validation Loss: 0.013342\n",
      "Epoch 800/1000, Training Loss: 0.017695, Validation Loss: 0.012908\n",
      "Epoch 900/1000, Training Loss: 0.017469, Validation Loss: 0.012560\n",
      "Modelo guardado en: d:\\idkROM\\results\\neural_network\\neural_network_model.pth\n",
      "Epoch 0/1000, Training Loss: 0.212545, Validation Loss: 0.197816\n",
      "Epoch 100/1000, Training Loss: 0.086136, Validation Loss: 0.080118\n",
      "Epoch 200/1000, Training Loss: 0.045557, Validation Loss: 0.039294\n",
      "Epoch 300/1000, Training Loss: 0.038792, Validation Loss: 0.031835\n",
      "Epoch 400/1000, Training Loss: 0.033812, Validation Loss: 0.027314\n",
      "Epoch 500/1000, Training Loss: 0.028651, Validation Loss: 0.018119\n",
      "Epoch 600/1000, Training Loss: 0.022170, Validation Loss: 0.014289\n",
      "Epoch 700/1000, Training Loss: 0.021053, Validation Loss: 0.013077\n",
      "Epoch 800/1000, Training Loss: 0.018644, Validation Loss: 0.012482\n",
      "Epoch 900/1000, Training Loss: 0.018470, Validation Loss: 0.011958\n",
      "Modelo guardado en: d:\\idkROM\\results\\neural_network\\neural_network_model.pth\n",
      "Epoch 0/1000, Training Loss: 0.377858, Validation Loss: 0.366837\n",
      "Epoch 100/1000, Training Loss: 0.176676, Validation Loss: 0.165500\n",
      "Epoch 200/1000, Training Loss: 0.075280, Validation Loss: 0.052554\n",
      "Epoch 300/1000, Training Loss: 0.052536, Validation Loss: 0.033278\n",
      "Epoch 400/1000, Training Loss: 0.048229, Validation Loss: 0.031758\n",
      "Epoch 500/1000, Training Loss: 0.042278, Validation Loss: 0.030973\n",
      "Epoch 600/1000, Training Loss: 0.037472, Validation Loss: 0.029732\n",
      "Epoch 700/1000, Training Loss: 0.032978, Validation Loss: 0.026788\n",
      "Epoch 800/1000, Training Loss: 0.028233, Validation Loss: 0.019494\n",
      "Epoch 900/1000, Training Loss: 0.022673, Validation Loss: 0.014901\n",
      "Modelo guardado en: d:\\idkROM\\results\\neural_network\\neural_network_model.pth\n",
      "Epoch 0/1000, Training Loss: 0.327908, Validation Loss: 0.286790\n",
      "Epoch 100/1000, Training Loss: 0.021706, Validation Loss: 0.013481\n",
      "Epoch 200/1000, Training Loss: 0.014685, Validation Loss: 0.009584\n",
      "Epoch 300/1000, Training Loss: 0.011636, Validation Loss: 0.007156\n",
      "Epoch 400/1000, Training Loss: 0.011161, Validation Loss: 0.006736\n",
      "Epoch 500/1000, Training Loss: 0.010764, Validation Loss: 0.006766\n",
      "Epoch 600/1000, Training Loss: 0.011188, Validation Loss: 0.006699\n",
      "Epoch 700/1000, Training Loss: 0.011177, Validation Loss: 0.006494\n",
      "Epoch 800/1000, Training Loss: 0.010894, Validation Loss: 0.006474\n",
      "Epoch 900/1000, Training Loss: 0.010679, Validation Loss: 0.006190\n",
      "Modelo guardado en: d:\\idkROM\\results\\neural_network\\neural_network_model.pth\n",
      "Epoch 0/1000, Training Loss: 0.261917, Validation Loss: 0.241207\n",
      "Epoch 100/1000, Training Loss: 0.018061, Validation Loss: 0.009636\n",
      "Epoch 200/1000, Training Loss: 0.012916, Validation Loss: 0.007647\n",
      "Epoch 300/1000, Training Loss: 0.011252, Validation Loss: 0.007005\n",
      "Epoch 400/1000, Training Loss: 0.011068, Validation Loss: 0.006950\n",
      "Epoch 500/1000, Training Loss: 0.010226, Validation Loss: 0.006961\n",
      "Epoch 600/1000, Training Loss: 0.010832, Validation Loss: 0.006766\n",
      "Epoch 700/1000, Training Loss: 0.010711, Validation Loss: 0.006980\n",
      "Epoch 800/1000, Training Loss: 0.010836, Validation Loss: 0.006725\n",
      "Epoch 900/1000, Training Loss: 0.011757, Validation Loss: 0.006795\n",
      "Modelo guardado en: d:\\idkROM\\results\\neural_network\\neural_network_model.pth\n",
      "Epoch 0/1000, Training Loss: 0.234816, Validation Loss: 0.210427\n",
      "Epoch 100/1000, Training Loss: 0.019366, Validation Loss: 0.012402\n",
      "Epoch 200/1000, Training Loss: 0.013024, Validation Loss: 0.009193\n",
      "Epoch 300/1000, Training Loss: 0.010903, Validation Loss: 0.005920\n",
      "Epoch 400/1000, Training Loss: 0.009767, Validation Loss: 0.005813\n",
      "Epoch 500/1000, Training Loss: 0.009856, Validation Loss: 0.005707\n",
      "Epoch 600/1000, Training Loss: 0.010096, Validation Loss: 0.005748\n",
      "Epoch 700/1000, Training Loss: 0.009559, Validation Loss: 0.005586\n",
      "Epoch 800/1000, Training Loss: 0.010190, Validation Loss: 0.005475\n",
      "Epoch 900/1000, Training Loss: 0.009307, Validation Loss: 0.005471\n",
      "Modelo guardado en: d:\\idkROM\\results\\neural_network\\neural_network_model.pth\n",
      "Epoch 0/1000, Training Loss: 0.267573, Validation Loss: 0.242025\n",
      "Epoch 100/1000, Training Loss: 0.016303, Validation Loss: 0.011360\n",
      "Epoch 200/1000, Training Loss: 0.012722, Validation Loss: 0.007569\n",
      "Epoch 300/1000, Training Loss: 0.010600, Validation Loss: 0.006993\n",
      "Epoch 400/1000, Training Loss: 0.010979, Validation Loss: 0.007019\n",
      "Epoch 500/1000, Training Loss: 0.010408, Validation Loss: 0.006875\n",
      "Epoch 600/1000, Training Loss: 0.010817, Validation Loss: 0.006803\n",
      "Epoch 700/1000, Training Loss: 0.011051, Validation Loss: 0.006837\n",
      "Epoch 800/1000, Training Loss: 0.011117, Validation Loss: 0.006883\n",
      "Epoch 900/1000, Training Loss: 0.010611, Validation Loss: 0.006827\n",
      "Modelo guardado en: d:\\idkROM\\results\\neural_network\\neural_network_model.pth\n",
      "Epoch 0/1000, Training Loss: 0.259914, Validation Loss: 0.229060\n",
      "Epoch 100/1000, Training Loss: 0.019540, Validation Loss: 0.011853\n",
      "Epoch 200/1000, Training Loss: 0.013588, Validation Loss: 0.008345\n",
      "Epoch 300/1000, Training Loss: 0.011233, Validation Loss: 0.007068\n",
      "Epoch 400/1000, Training Loss: 0.010989, Validation Loss: 0.006794\n",
      "Epoch 500/1000, Training Loss: 0.010470, Validation Loss: 0.006932\n",
      "Epoch 600/1000, Training Loss: 0.010517, Validation Loss: 0.006786\n",
      "Epoch 700/1000, Training Loss: 0.010954, Validation Loss: 0.006740\n",
      "Epoch 800/1000, Training Loss: 0.010351, Validation Loss: 0.006903\n",
      "Epoch 900/1000, Training Loss: 0.010832, Validation Loss: 0.006744\n",
      "Modelo guardado en: d:\\idkROM\\results\\neural_network\\neural_network_model.pth\n",
      "Epoch 0/1000, Training Loss: 0.292461, Validation Loss: 0.266839\n",
      "Epoch 100/1000, Training Loss: 0.020384, Validation Loss: 0.012471\n",
      "Epoch 200/1000, Training Loss: 0.011136, Validation Loss: 0.006876\n",
      "Epoch 300/1000, Training Loss: 0.007602, Validation Loss: 0.004765\n",
      "Epoch 400/1000, Training Loss: 0.008045, Validation Loss: 0.004622\n",
      "Epoch 500/1000, Training Loss: 0.007725, Validation Loss: 0.004574\n",
      "Epoch 600/1000, Training Loss: 0.007892, Validation Loss: 0.004507\n",
      "Epoch 700/1000, Training Loss: 0.008219, Validation Loss: 0.004556\n",
      "Epoch 800/1000, Training Loss: 0.008147, Validation Loss: 0.004536\n",
      "Epoch 900/1000, Training Loss: 0.008161, Validation Loss: 0.004599\n",
      "Modelo guardado en: d:\\idkROM\\results\\neural_network\\neural_network_model.pth\n",
      "Epoch 0/1000, Training Loss: 0.296608, Validation Loss: 0.269975\n",
      "Epoch 100/1000, Training Loss: 0.016812, Validation Loss: 0.010658\n",
      "Epoch 200/1000, Training Loss: 0.009019, Validation Loss: 0.005668\n",
      "Epoch 300/1000, Training Loss: 0.007461, Validation Loss: 0.004627\n",
      "Epoch 400/1000, Training Loss: 0.007849, Validation Loss: 0.004504\n",
      "Epoch 500/1000, Training Loss: 0.008184, Validation Loss: 0.004506\n",
      "Epoch 600/1000, Training Loss: 0.007563, Validation Loss: 0.004482\n",
      "Epoch 700/1000, Training Loss: 0.008070, Validation Loss: 0.004518\n",
      "Epoch 800/1000, Training Loss: 0.007811, Validation Loss: 0.004500\n",
      "Epoch 900/1000, Training Loss: 0.007798, Validation Loss: 0.004499\n",
      "Modelo guardado en: d:\\idkROM\\results\\neural_network\\neural_network_model.pth\n",
      "Epoch 0/1000, Training Loss: 0.230922, Validation Loss: 0.209945\n",
      "Epoch 100/1000, Training Loss: 0.013589, Validation Loss: 0.008830\n",
      "Epoch 200/1000, Training Loss: 0.009095, Validation Loss: 0.004925\n",
      "Epoch 300/1000, Training Loss: 0.007627, Validation Loss: 0.003795\n",
      "Epoch 400/1000, Training Loss: 0.007183, Validation Loss: 0.003785\n",
      "Epoch 500/1000, Training Loss: 0.006961, Validation Loss: 0.003757\n",
      "Epoch 600/1000, Training Loss: 0.006515, Validation Loss: 0.003713\n",
      "Epoch 700/1000, Training Loss: 0.006719, Validation Loss: 0.003707\n",
      "Epoch 800/1000, Training Loss: 0.007263, Validation Loss: 0.003715\n",
      "Epoch 900/1000, Training Loss: 0.006522, Validation Loss: 0.003728\n",
      "Modelo guardado en: d:\\idkROM\\results\\neural_network\\neural_network_model.pth\n",
      "Epoch 0/1000, Training Loss: 0.242861, Validation Loss: 0.220346\n",
      "Epoch 100/1000, Training Loss: 0.017085, Validation Loss: 0.008974\n",
      "Epoch 200/1000, Training Loss: 0.009812, Validation Loss: 0.005650\n",
      "Epoch 300/1000, Training Loss: 0.008387, Validation Loss: 0.004806\n",
      "Epoch 400/1000, Training Loss: 0.008446, Validation Loss: 0.004614\n",
      "Epoch 500/1000, Training Loss: 0.007983, Validation Loss: 0.004611\n",
      "Epoch 600/1000, Training Loss: 0.007640, Validation Loss: 0.004584\n",
      "Epoch 700/1000, Training Loss: 0.008350, Validation Loss: 0.004612\n",
      "Epoch 800/1000, Training Loss: 0.007839, Validation Loss: 0.004570\n",
      "Epoch 900/1000, Training Loss: 0.008146, Validation Loss: 0.004591\n",
      "Modelo guardado en: d:\\idkROM\\results\\neural_network\\neural_network_model.pth\n",
      "Epoch 0/1000, Training Loss: 0.249349, Validation Loss: 0.219977\n",
      "Epoch 100/1000, Training Loss: 0.016194, Validation Loss: 0.010839\n",
      "Epoch 200/1000, Training Loss: 0.008881, Validation Loss: 0.005639\n",
      "Epoch 300/1000, Training Loss: 0.007655, Validation Loss: 0.004686\n",
      "Epoch 400/1000, Training Loss: 0.008065, Validation Loss: 0.004595\n",
      "Epoch 500/1000, Training Loss: 0.007695, Validation Loss: 0.004504\n",
      "Epoch 600/1000, Training Loss: 0.007719, Validation Loss: 0.004490\n",
      "Epoch 700/1000, Training Loss: 0.007908, Validation Loss: 0.004529\n",
      "Epoch 800/1000, Training Loss: 0.008441, Validation Loss: 0.004493\n",
      "Epoch 900/1000, Training Loss: 0.007423, Validation Loss: 0.004497\n",
      "Modelo guardado en: d:\\idkROM\\results\\neural_network\\neural_network_model.pth\n",
      "Epoch 0/1000, Training Loss: 0.249691, Validation Loss: 0.237975\n",
      "Epoch 100/1000, Training Loss: 0.034895, Validation Loss: 0.027794\n",
      "Epoch 200/1000, Training Loss: 0.022037, Validation Loss: 0.016899\n",
      "Epoch 300/1000, Training Loss: 0.020961, Validation Loss: 0.015209\n",
      "Epoch 400/1000, Training Loss: 0.018014, Validation Loss: 0.014286\n",
      "Epoch 500/1000, Training Loss: 0.018467, Validation Loss: 0.014182\n",
      "Epoch 600/1000, Training Loss: 0.018551, Validation Loss: 0.014253\n",
      "Epoch 700/1000, Training Loss: 0.018396, Validation Loss: 0.014055\n",
      "Epoch 800/1000, Training Loss: 0.018252, Validation Loss: 0.013950\n",
      "Epoch 900/1000, Training Loss: 0.017572, Validation Loss: 0.014378\n",
      "Modelo guardado en: d:\\idkROM\\results\\neural_network\\neural_network_model.pth\n",
      "Epoch 0/1000, Training Loss: 0.208306, Validation Loss: 0.199167\n",
      "Epoch 100/1000, Training Loss: 0.026998, Validation Loss: 0.020056\n",
      "Epoch 200/1000, Training Loss: 0.020011, Validation Loss: 0.015648\n",
      "Epoch 300/1000, Training Loss: 0.020008, Validation Loss: 0.014884\n",
      "Epoch 400/1000, Training Loss: 0.018506, Validation Loss: 0.014300\n",
      "Epoch 500/1000, Training Loss: 0.017816, Validation Loss: 0.014189\n",
      "Epoch 600/1000, Training Loss: 0.016895, Validation Loss: 0.014066\n",
      "Epoch 700/1000, Training Loss: 0.016943, Validation Loss: 0.013752\n",
      "Epoch 800/1000, Training Loss: 0.018317, Validation Loss: 0.014351\n",
      "Epoch 900/1000, Training Loss: 0.017570, Validation Loss: 0.014396\n",
      "Modelo guardado en: d:\\idkROM\\results\\neural_network\\neural_network_model.pth\n",
      "Epoch 0/1000, Training Loss: 0.122854, Validation Loss: 0.112802\n",
      "Epoch 100/1000, Training Loss: 0.026589, Validation Loss: 0.021500\n",
      "Epoch 200/1000, Training Loss: 0.020130, Validation Loss: 0.015474\n",
      "Epoch 300/1000, Training Loss: 0.017802, Validation Loss: 0.014228\n",
      "Epoch 400/1000, Training Loss: 0.017210, Validation Loss: 0.014119\n",
      "Epoch 500/1000, Training Loss: 0.016556, Validation Loss: 0.013498\n",
      "Epoch 600/1000, Training Loss: 0.015677, Validation Loss: 0.013568\n",
      "Epoch 700/1000, Training Loss: 0.019055, Validation Loss: 0.013328\n",
      "Epoch 800/1000, Training Loss: 0.016784, Validation Loss: 0.012943\n",
      "Epoch 900/1000, Training Loss: 0.016973, Validation Loss: 0.012957\n",
      "Modelo guardado en: d:\\idkROM\\results\\neural_network\\neural_network_model.pth\n",
      "Epoch 0/1000, Training Loss: 0.242666, Validation Loss: 0.237869\n",
      "Epoch 100/1000, Training Loss: 0.027371, Validation Loss: 0.023014\n",
      "Epoch 200/1000, Training Loss: 0.022497, Validation Loss: 0.017965\n",
      "Epoch 300/1000, Training Loss: 0.017787, Validation Loss: 0.016269\n",
      "Epoch 400/1000, Training Loss: 0.017782, Validation Loss: 0.015610\n",
      "Epoch 500/1000, Training Loss: 0.017375, Validation Loss: 0.015582\n",
      "Epoch 600/1000, Training Loss: 0.019019, Validation Loss: 0.015650\n",
      "Epoch 700/1000, Training Loss: 0.016805, Validation Loss: 0.015491\n",
      "Epoch 800/1000, Training Loss: 0.017949, Validation Loss: 0.015409\n",
      "Epoch 900/1000, Training Loss: 0.017798, Validation Loss: 0.015175\n",
      "Modelo guardado en: d:\\idkROM\\results\\neural_network\\neural_network_model.pth\n",
      "Epoch 0/1000, Training Loss: 0.297392, Validation Loss: 0.288973\n",
      "Epoch 100/1000, Training Loss: 0.035111, Validation Loss: 0.030440\n",
      "Epoch 200/1000, Training Loss: 0.026115, Validation Loss: 0.018852\n",
      "Epoch 300/1000, Training Loss: 0.019459, Validation Loss: 0.014444\n",
      "Epoch 400/1000, Training Loss: 0.018032, Validation Loss: 0.013303\n",
      "Epoch 500/1000, Training Loss: 0.018011, Validation Loss: 0.013118\n",
      "Epoch 600/1000, Training Loss: 0.016601, Validation Loss: 0.013020\n",
      "Epoch 700/1000, Training Loss: 0.017698, Validation Loss: 0.013083\n",
      "Epoch 800/1000, Training Loss: 0.016163, Validation Loss: 0.013068\n",
      "Epoch 900/1000, Training Loss: 0.016365, Validation Loss: 0.013130\n",
      "Modelo guardado en: d:\\idkROM\\results\\neural_network\\neural_network_model.pth\n",
      "Epoch 0/1000, Training Loss: 0.172799, Validation Loss: 0.143237\n",
      "Epoch 100/1000, Training Loss: 0.011354, Validation Loss: 0.005379\n",
      "Epoch 200/1000, Training Loss: 0.009237, Validation Loss: 0.004597\n",
      "Epoch 300/1000, Training Loss: 0.007947, Validation Loss: 0.003893\n",
      "Epoch 400/1000, Training Loss: 0.006927, Validation Loss: 0.003630\n",
      "Epoch 500/1000, Training Loss: 0.006363, Validation Loss: 0.003491\n",
      "Epoch 600/1000, Training Loss: 0.006171, Validation Loss: 0.003287\n",
      "Epoch 700/1000, Training Loss: 0.006031, Validation Loss: 0.003204\n",
      "Epoch 800/1000, Training Loss: 0.006348, Validation Loss: 0.003130\n",
      "Epoch 900/1000, Training Loss: 0.005770, Validation Loss: 0.003053\n",
      "Modelo guardado en: d:\\idkROM\\results\\neural_network\\neural_network_model.pth\n",
      "Epoch 0/1000, Training Loss: 0.168657, Validation Loss: 0.128889\n",
      "Epoch 100/1000, Training Loss: 0.011362, Validation Loss: 0.005161\n",
      "Epoch 200/1000, Training Loss: 0.009244, Validation Loss: 0.004662\n",
      "Epoch 300/1000, Training Loss: 0.007717, Validation Loss: 0.004164\n",
      "Epoch 400/1000, Training Loss: 0.007445, Validation Loss: 0.003676\n",
      "Epoch 500/1000, Training Loss: 0.006758, Validation Loss: 0.003462\n",
      "Epoch 600/1000, Training Loss: 0.006802, Validation Loss: 0.003405\n",
      "Epoch 700/1000, Training Loss: 0.006273, Validation Loss: 0.003170\n",
      "Epoch 800/1000, Training Loss: 0.006144, Validation Loss: 0.002998\n",
      "Epoch 900/1000, Training Loss: 0.006326, Validation Loss: 0.002976\n",
      "Modelo guardado en: d:\\idkROM\\results\\neural_network\\neural_network_model.pth\n",
      "Epoch 0/1000, Training Loss: 0.175297, Validation Loss: 0.149894\n",
      "Epoch 100/1000, Training Loss: 0.009965, Validation Loss: 0.004508\n",
      "Epoch 200/1000, Training Loss: 0.008112, Validation Loss: 0.003877\n",
      "Epoch 300/1000, Training Loss: 0.006886, Validation Loss: 0.003650\n",
      "Epoch 400/1000, Training Loss: 0.006187, Validation Loss: 0.003083\n",
      "Epoch 500/1000, Training Loss: 0.006298, Validation Loss: 0.002855\n",
      "Epoch 600/1000, Training Loss: 0.005617, Validation Loss: 0.002637\n",
      "Epoch 700/1000, Training Loss: 0.005518, Validation Loss: 0.002443\n",
      "Epoch 800/1000, Training Loss: 0.005497, Validation Loss: 0.002441\n",
      "Epoch 900/1000, Training Loss: 0.005311, Validation Loss: 0.002425\n",
      "Modelo guardado en: d:\\idkROM\\results\\neural_network\\neural_network_model.pth\n",
      "Epoch 0/1000, Training Loss: 0.163798, Validation Loss: 0.131097\n",
      "Epoch 100/1000, Training Loss: 0.010697, Validation Loss: 0.005262\n",
      "Epoch 200/1000, Training Loss: 0.009068, Validation Loss: 0.004884\n",
      "Epoch 300/1000, Training Loss: 0.008102, Validation Loss: 0.004336\n",
      "Epoch 400/1000, Training Loss: 0.007188, Validation Loss: 0.003910\n",
      "Epoch 500/1000, Training Loss: 0.006966, Validation Loss: 0.003779\n",
      "Epoch 600/1000, Training Loss: 0.006778, Validation Loss: 0.003535\n",
      "Epoch 700/1000, Training Loss: 0.006351, Validation Loss: 0.003446\n",
      "Epoch 800/1000, Training Loss: 0.006523, Validation Loss: 0.003351\n",
      "Epoch 900/1000, Training Loss: 0.006339, Validation Loss: 0.003244\n",
      "Modelo guardado en: d:\\idkROM\\results\\neural_network\\neural_network_model.pth\n",
      "Epoch 0/1000, Training Loss: 0.138408, Validation Loss: 0.111952\n",
      "Epoch 100/1000, Training Loss: 0.010763, Validation Loss: 0.005038\n",
      "Epoch 200/1000, Training Loss: 0.008501, Validation Loss: 0.004739\n",
      "Epoch 300/1000, Training Loss: 0.008125, Validation Loss: 0.004371\n",
      "Epoch 400/1000, Training Loss: 0.006880, Validation Loss: 0.003693\n",
      "Epoch 500/1000, Training Loss: 0.006954, Validation Loss: 0.003462\n",
      "Epoch 600/1000, Training Loss: 0.006521, Validation Loss: 0.003289\n",
      "Epoch 700/1000, Training Loss: 0.006413, Validation Loss: 0.003114\n",
      "Epoch 800/1000, Training Loss: 0.006090, Validation Loss: 0.003020\n",
      "Epoch 900/1000, Training Loss: 0.006111, Validation Loss: 0.002923\n",
      "Modelo guardado en: d:\\idkROM\\results\\neural_network\\neural_network_model.pth\n",
      "Epoch 0/1000, Training Loss: 0.198091, Validation Loss: 0.165343\n",
      "Epoch 100/1000, Training Loss: 0.050222, Validation Loss: 0.033523\n",
      "Epoch 200/1000, Training Loss: 0.040980, Validation Loss: 0.032850\n",
      "Epoch 300/1000, Training Loss: 0.037232, Validation Loss: 0.032248\n",
      "Epoch 400/1000, Training Loss: 0.034810, Validation Loss: 0.031386\n",
      "Epoch 500/1000, Training Loss: 0.032913, Validation Loss: 0.030097\n",
      "Epoch 600/1000, Training Loss: 0.030734, Validation Loss: 0.027710\n",
      "Epoch 700/1000, Training Loss: 0.027156, Validation Loss: 0.023329\n",
      "Epoch 800/1000, Training Loss: 0.022440, Validation Loss: 0.018483\n",
      "Epoch 900/1000, Training Loss: 0.020172, Validation Loss: 0.015514\n",
      "Modelo guardado en: d:\\idkROM\\results\\neural_network\\neural_network_model.pth\n",
      "Epoch 0/1000, Training Loss: 0.222690, Validation Loss: 0.195092\n",
      "Epoch 100/1000, Training Loss: 0.047973, Validation Loss: 0.032002\n",
      "Epoch 200/1000, Training Loss: 0.041062, Validation Loss: 0.031458\n",
      "Epoch 300/1000, Training Loss: 0.036787, Validation Loss: 0.031085\n",
      "Epoch 400/1000, Training Loss: 0.034779, Validation Loss: 0.030501\n",
      "Epoch 500/1000, Training Loss: 0.033287, Validation Loss: 0.029684\n",
      "Epoch 600/1000, Training Loss: 0.031416, Validation Loss: 0.028315\n",
      "Epoch 700/1000, Training Loss: 0.028419, Validation Loss: 0.025621\n",
      "Epoch 800/1000, Training Loss: 0.025684, Validation Loss: 0.021333\n",
      "Epoch 900/1000, Training Loss: 0.021607, Validation Loss: 0.017097\n",
      "Modelo guardado en: d:\\idkROM\\results\\neural_network\\neural_network_model.pth\n",
      "Epoch 0/1000, Training Loss: 0.263571, Validation Loss: 0.238790\n",
      "Epoch 100/1000, Training Loss: 0.051236, Validation Loss: 0.032522\n",
      "Epoch 200/1000, Training Loss: 0.041776, Validation Loss: 0.031198\n",
      "Epoch 300/1000, Training Loss: 0.037351, Validation Loss: 0.030811\n",
      "Epoch 400/1000, Training Loss: 0.034440, Validation Loss: 0.030237\n",
      "Epoch 500/1000, Training Loss: 0.032266, Validation Loss: 0.029354\n",
      "Epoch 600/1000, Training Loss: 0.030772, Validation Loss: 0.027640\n",
      "Epoch 700/1000, Training Loss: 0.027102, Validation Loss: 0.023916\n",
      "Epoch 800/1000, Training Loss: 0.024530, Validation Loss: 0.018516\n",
      "Epoch 900/1000, Training Loss: 0.020260, Validation Loss: 0.014719\n",
      "Modelo guardado en: d:\\idkROM\\results\\neural_network\\neural_network_model.pth\n",
      "Epoch 0/1000, Training Loss: 0.213890, Validation Loss: 0.188412\n",
      "Epoch 100/1000, Training Loss: 0.046778, Validation Loss: 0.033015\n",
      "Epoch 200/1000, Training Loss: 0.038818, Validation Loss: 0.031961\n",
      "Epoch 300/1000, Training Loss: 0.036243, Validation Loss: 0.031305\n",
      "Epoch 400/1000, Training Loss: 0.033670, Validation Loss: 0.030365\n",
      "Epoch 500/1000, Training Loss: 0.031987, Validation Loss: 0.028755\n",
      "Epoch 600/1000, Training Loss: 0.028887, Validation Loss: 0.025261\n",
      "Epoch 700/1000, Training Loss: 0.025197, Validation Loss: 0.019448\n",
      "Epoch 800/1000, Training Loss: 0.020618, Validation Loss: 0.015145\n",
      "Epoch 900/1000, Training Loss: 0.020177, Validation Loss: 0.013215\n",
      "Modelo guardado en: d:\\idkROM\\results\\neural_network\\neural_network_model.pth\n",
      "Epoch 0/1000, Training Loss: 0.147835, Validation Loss: 0.121375\n",
      "Epoch 100/1000, Training Loss: 0.045373, Validation Loss: 0.031690\n",
      "Epoch 200/1000, Training Loss: 0.037658, Validation Loss: 0.031429\n",
      "Epoch 300/1000, Training Loss: 0.035827, Validation Loss: 0.031062\n",
      "Epoch 400/1000, Training Loss: 0.034429, Validation Loss: 0.030652\n",
      "Epoch 500/1000, Training Loss: 0.032861, Validation Loss: 0.030013\n",
      "Epoch 600/1000, Training Loss: 0.031339, Validation Loss: 0.028831\n",
      "Epoch 700/1000, Training Loss: 0.029027, Validation Loss: 0.025896\n",
      "Epoch 800/1000, Training Loss: 0.024771, Validation Loss: 0.020408\n",
      "Epoch 900/1000, Training Loss: 0.020940, Validation Loss: 0.016113\n",
      "Modelo guardado en: d:\\idkROM\\results\\neural_network\\neural_network_model.pth\n",
      "Epoch 0/1000, Training Loss: 0.244980, Validation Loss: 0.200918\n",
      "Epoch 100/1000, Training Loss: 0.007032, Validation Loss: 0.003880\n",
      "Epoch 200/1000, Training Loss: 0.006008, Validation Loss: 0.003715\n",
      "Epoch 300/1000, Training Loss: 0.005190, Validation Loss: 0.003605\n",
      "Epoch 400/1000, Training Loss: 0.004838, Validation Loss: 0.003617\n",
      "Epoch 500/1000, Training Loss: 0.004825, Validation Loss: 0.003599\n",
      "Epoch 600/1000, Training Loss: 0.004587, Validation Loss: 0.003573\n",
      "Epoch 700/1000, Training Loss: 0.004782, Validation Loss: 0.003565\n",
      "Epoch 800/1000, Training Loss: 0.005134, Validation Loss: 0.003576\n",
      "Epoch 900/1000, Training Loss: 0.004953, Validation Loss: 0.003557\n",
      "Modelo guardado en: d:\\idkROM\\results\\neural_network\\neural_network_model.pth\n",
      "Epoch 0/1000, Training Loss: 0.242070, Validation Loss: 0.192502\n",
      "Epoch 100/1000, Training Loss: 0.007950, Validation Loss: 0.003863\n",
      "Epoch 200/1000, Training Loss: 0.005720, Validation Loss: 0.003651\n",
      "Epoch 300/1000, Training Loss: 0.005210, Validation Loss: 0.003578\n",
      "Epoch 400/1000, Training Loss: 0.004947, Validation Loss: 0.003579\n",
      "Epoch 500/1000, Training Loss: 0.004811, Validation Loss: 0.003576\n",
      "Epoch 600/1000, Training Loss: 0.004826, Validation Loss: 0.003561\n",
      "Epoch 700/1000, Training Loss: 0.004796, Validation Loss: 0.003553\n",
      "Epoch 800/1000, Training Loss: 0.004825, Validation Loss: 0.003566\n",
      "Epoch 900/1000, Training Loss: 0.004783, Validation Loss: 0.003556\n",
      "Modelo guardado en: d:\\idkROM\\results\\neural_network\\neural_network_model.pth\n",
      "Epoch 0/1000, Training Loss: 0.209552, Validation Loss: 0.166891\n",
      "Epoch 100/1000, Training Loss: 0.006719, Validation Loss: 0.002986\n",
      "Epoch 200/1000, Training Loss: 0.004650, Validation Loss: 0.002807\n",
      "Epoch 300/1000, Training Loss: 0.004365, Validation Loss: 0.002754\n",
      "Epoch 400/1000, Training Loss: 0.004145, Validation Loss: 0.002730\n",
      "Epoch 500/1000, Training Loss: 0.003903, Validation Loss: 0.002724\n",
      "Epoch 600/1000, Training Loss: 0.004048, Validation Loss: 0.002730\n",
      "Epoch 700/1000, Training Loss: 0.004197, Validation Loss: 0.002707\n",
      "Epoch 800/1000, Training Loss: 0.003893, Validation Loss: 0.002750\n",
      "Epoch 900/1000, Training Loss: 0.003989, Validation Loss: 0.002739\n",
      "Modelo guardado en: d:\\idkROM\\results\\neural_network\\neural_network_model.pth\n",
      "Epoch 0/1000, Training Loss: 0.233333, Validation Loss: 0.183972\n",
      "Epoch 100/1000, Training Loss: 0.007550, Validation Loss: 0.003931\n",
      "Epoch 200/1000, Training Loss: 0.005555, Validation Loss: 0.003735\n",
      "Epoch 300/1000, Training Loss: 0.005339, Validation Loss: 0.003680\n",
      "Epoch 400/1000, Training Loss: 0.004751, Validation Loss: 0.003655\n",
      "Epoch 500/1000, Training Loss: 0.004797, Validation Loss: 0.003699\n",
      "Epoch 600/1000, Training Loss: 0.004850, Validation Loss: 0.003651\n",
      "Epoch 700/1000, Training Loss: 0.004875, Validation Loss: 0.003665\n",
      "Epoch 800/1000, Training Loss: 0.004825, Validation Loss: 0.003677\n",
      "Epoch 900/1000, Training Loss: 0.004862, Validation Loss: 0.003658\n",
      "Modelo guardado en: d:\\idkROM\\results\\neural_network\\neural_network_model.pth\n",
      "Epoch 0/1000, Training Loss: 0.197742, Validation Loss: 0.161974\n",
      "Epoch 100/1000, Training Loss: 0.007093, Validation Loss: 0.003712\n",
      "Epoch 200/1000, Training Loss: 0.005576, Validation Loss: 0.003597\n",
      "Epoch 300/1000, Training Loss: 0.005122, Validation Loss: 0.003508\n",
      "Epoch 400/1000, Training Loss: 0.004611, Validation Loss: 0.003524\n",
      "Epoch 500/1000, Training Loss: 0.004711, Validation Loss: 0.003525\n",
      "Epoch 600/1000, Training Loss: 0.004862, Validation Loss: 0.003520\n",
      "Epoch 700/1000, Training Loss: 0.004970, Validation Loss: 0.003588\n",
      "Epoch 800/1000, Training Loss: 0.004666, Validation Loss: 0.003559\n",
      "Epoch 900/1000, Training Loss: 0.004807, Validation Loss: 0.003518\n",
      "Modelo guardado en: d:\\idkROM\\results\\neural_network\\neural_network_model.pth\n",
      "Epoch 0/1000, Training Loss: 0.144877, Validation Loss: 0.119211\n",
      "Epoch 100/1000, Training Loss: 0.009909, Validation Loss: 0.004667\n",
      "Epoch 200/1000, Training Loss: 0.008390, Validation Loss: 0.004262\n",
      "Epoch 300/1000, Training Loss: 0.007452, Validation Loss: 0.003866\n",
      "Epoch 400/1000, Training Loss: 0.007145, Validation Loss: 0.003538\n",
      "Epoch 500/1000, Training Loss: 0.006540, Validation Loss: 0.003057\n",
      "Epoch 600/1000, Training Loss: 0.006454, Validation Loss: 0.002963\n",
      "Epoch 700/1000, Training Loss: 0.005976, Validation Loss: 0.003043\n",
      "Epoch 800/1000, Training Loss: 0.006041, Validation Loss: 0.002925\n",
      "Epoch 900/1000, Training Loss: 0.005499, Validation Loss: 0.002822\n",
      "Modelo guardado en: d:\\idkROM\\results\\neural_network\\neural_network_model.pth\n",
      "Mejores hiperparámetros encontrados:  {'optimizer': 'Adam', 'num_epochs': 1000, 'neurons_per_layer': 20, 'learning_rate': 0.001, 'hidden_layers': 4, 'activation_function': 'Tanh'}\n",
      "Mejor score encontrado:  -0.003188253100961447\n"
     ]
    }
   ],
   "source": [
    "# Definimos el espacio de hiperparametros\n",
    "\n",
    "# Esto se hará mediante una lectura del .yml, y no manualmente ######################################\n",
    "# Definir el espacio de hiperparámetros\n",
    "param_grid = {\n",
    "    'hidden_layers': [1, 2, 4],\n",
    "    'neurons_per_layer': [5, 10, 20],\n",
    "    'learning_rate': [1e-3, 1e-4],\n",
    "    'activation_function': ['ReLU', 'Tanh', 'Sigmoid'],\n",
    "    'optimizer': ['Adam', 'SGD', 'RMSprop'],\n",
    "    'num_epochs': [1000]\n",
    "}\n",
    "\n",
    "best_params = idkROMHyperparameterTuner('neural_network', X_train_normalized, y_train_normalized, search_type='random', n_iter=10)"
   ]
  },
  {
   "cell_type": "markdown",
   "metadata": {},
   "source": [
    "4.1.2 Neural network training and evaluation"
   ]
  },
  {
   "cell_type": "code",
   "execution_count": 41,
   "metadata": {},
   "outputs": [
    {
     "name": "stdout",
     "output_type": "stream",
     "text": [
      "Epoch 0/1000, Training Loss: 0.129775, Validation Loss: 0.093331\n",
      "Epoch 100/1000, Training Loss: 0.009791, Validation Loss: 0.003658\n",
      "Epoch 200/1000, Training Loss: 0.007454, Validation Loss: 0.003192\n",
      "Epoch 300/1000, Training Loss: 0.007004, Validation Loss: 0.002732\n",
      "Epoch 400/1000, Training Loss: 0.006615, Validation Loss: 0.002569\n",
      "Epoch 500/1000, Training Loss: 0.006753, Validation Loss: 0.002543\n",
      "Epoch 600/1000, Training Loss: 0.006355, Validation Loss: 0.002298\n",
      "Epoch 700/1000, Training Loss: 0.005944, Validation Loss: 0.002127\n",
      "Epoch 800/1000, Training Loss: 0.006137, Validation Loss: 0.002220\n",
      "Epoch 900/1000, Training Loss: 0.005863, Validation Loss: 0.002097\n",
      "Modelo guardado en: d:\\idkROM\\results\\neural_network\\neural_network_model.pth\n"
     ]
    }
   ],
   "source": [
    "# Usamos el set de hiperparametros encontrado por la funcion de busqueda para entrenar el modelo\n",
    "model = idkROMNeuralNetwork(**best_params)\n",
    "model.train(X_train_normalized, y_train_normalized, X_val_normalized, y_val_normalized)\n",
    "\n"
   ]
  },
  {
   "cell_type": "code",
   "execution_count": 42,
   "metadata": {},
   "outputs": [
    {
     "name": "stdout",
     "output_type": "stream",
     "text": [
      "Predicciones: [[0.5854428  0.34500045 0.51629937 ... 0.17165485 0.1545065  0.05631291]\n",
      " [0.69881535 0.55603814 0.23599252 ... 0.09467545 0.23572907 0.07421581]\n",
      " [0.67304975 0.4839198  0.46341532 ... 0.18035279 0.16427168 0.07185655]\n",
      " ...\n",
      " [0.09417799 0.12429795 0.2958917  ... 0.52786875 0.01359496 0.03952385]\n",
      " [0.3747157  0.2546327  0.18790378 ... 0.20250262 0.15446803 0.04783724]\n",
      " [0.5379052  0.62156034 0.12855868 ... 0.37629843 0.20506775 0.08858328]]\n"
     ]
    }
   ],
   "source": [
    "# Con el modelo entrenado, podemos realizar una predicción de los resultados sobre el set de test\n",
    "y_pred = model.predict(X_test_normalized)\n",
    "print(f\"Predicciones: {y_pred}\")\n"
   ]
  },
  {
   "cell_type": "code",
   "execution_count": 43,
   "metadata": {},
   "outputs": [
    {
     "name": "stdout",
     "output_type": "stream",
     "text": [
      "Verificación de que y_test y y_pred tengan la misma forma:\n",
      "Forma de y_test: (90, 18)\n",
      "Forma de y_pred: (90, 18)\n",
      "MSE en escala normalizada: 0.0026856951881200075\n",
      "MSE en escala original: 6317092864.0\n",
      "Predicciones guardadas en: d:\\idkROM\\results\\neural_network\\neural_network_predictions.csv\n",
      "Report saved at: d:\\idkROM\\results\\neural_network\\neural_network_training_summary.html\n",
      "Model and metrics saved successfully!\n"
     ]
    },
    {
     "data": {
      "text/plain": [
       "0"
      ]
     },
     "execution_count": 43,
     "metadata": {},
     "output_type": "execute_result"
    }
   ],
   "source": [
    "# Ahora, evaluamos el error de la predicción\n",
    "\n",
    "# Cargamos el scaler de salida guardado en el preprocesamiento\n",
    "results_path = os.path.dirname(os.path.dirname(file_path))\n",
    "results_path = os.path.join(results_path, \"results\")\n",
    "output_scaler = joblib.load(os.path.join(results_path, 'output_scaler.pkl'))\n",
    "\n",
    "if idkROMPreprocessing().scaler_type == 'minmax':\n",
    "    print(\"Mínimos originales de los outputs:\", output_scaler.data_min_)\n",
    "    print(\"Máximos originales de los outputs:\", output_scaler.data_max_)\n",
    "\n",
    "# Evaluar el modelo utilizando las predicciones\n",
    "model.evaluate(X_test_normalized, y_test_normalized, y_pred, output_scaler=output_scaler)\n",
    "\n",
    "    "
   ]
  },
  {
   "cell_type": "code",
   "execution_count": 46,
   "metadata": {},
   "outputs": [],
   "source": [
    "# la variable model es el ROM Neural Network\n",
    "report_generator = idkROMMetrics(model, idkROMNeuralNetwork().train_losses, idkROMNeuralNetwork().val_losses, X_train_normalized, y_train_normalized, X_test_normalized, y_test_normalized, 'neural_network')\n",
    "\n",
    "mse = mean_squared_error(y_test_normalized, y_pred)\n",
    "r2 = r2_score(y_test_normalized, y_pred)\n",
    "\n",
    "metrics_df = pd.DataFrame([{'MSE': mse, 'R²': r2}])\n",
    "\n",
    "report_generator.create_convergence_graph()\n",
    "report_generator.create_metrics_graph(metrics_df)\n",
    "\n",
    "os.chdir(original_cwd)\n",
    "\n"
   ]
  },
  {
   "cell_type": "markdown",
   "metadata": {},
   "source": [
    "4.2 Gaussian Process"
   ]
  },
  {
   "cell_type": "markdown",
   "metadata": {},
   "source": [
    "4.2.1 Gaussian Process Hyperparams"
   ]
  },
  {
   "cell_type": "code",
   "execution_count": 47,
   "metadata": {},
   "outputs": [
    {
     "name": "stdout",
     "output_type": "stream",
     "text": [
      "Shape of X_train: (419, 7)\n",
      "Shape of y_train: (419, 18)\n",
      "Model saved at: d:\\idkROM\\idkROM\\results\\gaussian_process\\gp_model.pkl\n",
      "Model saved at: d:\\idkROM\\idkROM\\results\\gaussian_process\\gp_model.pkl\n",
      "Model saved at: d:\\idkROM\\idkROM\\results\\gaussian_process\\gp_model.pkl\n",
      "Model saved at: d:\\idkROM\\idkROM\\results\\gaussian_process\\gp_model.pkl\n",
      "Model saved at: d:\\idkROM\\idkROM\\results\\gaussian_process\\gp_model.pkl\n",
      "Model saved at: d:\\idkROM\\idkROM\\results\\gaussian_process\\gp_model.pkl\n",
      "Model saved at: d:\\idkROM\\idkROM\\results\\gaussian_process\\gp_model.pkl\n",
      "Model saved at: d:\\idkROM\\idkROM\\results\\gaussian_process\\gp_model.pkl\n",
      "Model saved at: d:\\idkROM\\idkROM\\results\\gaussian_process\\gp_model.pkl\n",
      "Model saved at: d:\\idkROM\\idkROM\\results\\gaussian_process\\gp_model.pkl\n",
      "Model saved at: d:\\idkROM\\idkROM\\results\\gaussian_process\\gp_model.pkl\n",
      "Model saved at: d:\\idkROM\\idkROM\\results\\gaussian_process\\gp_model.pkl\n",
      "Model saved at: d:\\idkROM\\idkROM\\results\\gaussian_process\\gp_model.pkl\n",
      "Model saved at: d:\\idkROM\\idkROM\\results\\gaussian_process\\gp_model.pkl\n"
     ]
    },
    {
     "name": "stderr",
     "output_type": "stream",
     "text": [
      "d:\\idkROM\\idkROM\\virtual_env\\Lib\\site-packages\\sklearn\\model_selection\\_search.py:317: UserWarning:\n",
      "\n",
      "The total space of parameters 6 is smaller than n_iter=10. Running 6 iterations. For exhaustive searches, use GridSearchCV.\n",
      "\n"
     ]
    },
    {
     "name": "stdout",
     "output_type": "stream",
     "text": [
      "Model saved at: d:\\idkROM\\idkROM\\results\\gaussian_process\\gp_model.pkl\n",
      "Model saved at: d:\\idkROM\\idkROM\\results\\gaussian_process\\gp_model.pkl\n",
      "Model saved at: d:\\idkROM\\idkROM\\results\\gaussian_process\\gp_model.pkl\n",
      "Model saved at: d:\\idkROM\\idkROM\\results\\gaussian_process\\gp_model.pkl\n",
      "Model saved at: d:\\idkROM\\idkROM\\results\\gaussian_process\\gp_model.pkl\n",
      "Model saved at: d:\\idkROM\\idkROM\\results\\gaussian_process\\gp_model.pkl\n",
      "Model saved at: d:\\idkROM\\idkROM\\results\\gaussian_process\\gp_model.pkl\n",
      "Model saved at: d:\\idkROM\\idkROM\\results\\gaussian_process\\gp_model.pkl\n",
      "Model saved at: d:\\idkROM\\idkROM\\results\\gaussian_process\\gp_model.pkl\n",
      "Model saved at: d:\\idkROM\\idkROM\\results\\gaussian_process\\gp_model.pkl\n",
      "Model saved at: d:\\idkROM\\idkROM\\results\\gaussian_process\\gp_model.pkl\n",
      "Model saved at: d:\\idkROM\\idkROM\\results\\gaussian_process\\gp_model.pkl\n",
      "Model saved at: d:\\idkROM\\idkROM\\results\\gaussian_process\\gp_model.pkl\n",
      "Model saved at: d:\\idkROM\\idkROM\\results\\gaussian_process\\gp_model.pkl\n",
      "Model saved at: d:\\idkROM\\idkROM\\results\\gaussian_process\\gp_model.pkl\n",
      "Model saved at: d:\\idkROM\\idkROM\\results\\gaussian_process\\gp_model.pkl\n",
      "Model saved at: d:\\idkROM\\idkROM\\results\\gaussian_process\\gp_model.pkl\n",
      "Mejores hiperparámetros encontrados:  {'noise': 0.01, 'kernel': 'RBF'}\n",
      "Mejor score encontrado:  -0.0016031017020120039\n"
     ]
    }
   ],
   "source": [
    "# Definimos el espacio de hiperparametros\n",
    "\n",
    "# Esto se hará mediante una lectura del .yml, y no manualmente ######################################\n",
    "# Definir el espacio de hiperparámetros\n",
    "param_grid = {\n",
    "            'kernel': ['RBF', 'Matern'],\n",
    "            'noise': [1e-3, 1e-2, 1e-1],\n",
    "        }\n",
    "\n",
    "best_params = idkROMHyperparameterTuner('gaussian_process', X_train_normalized, y_train_normalized, search_type='random', n_iter=10)"
   ]
  },
  {
   "cell_type": "markdown",
   "metadata": {},
   "source": [
    "4.2.2 Gaussian process training and evaluation"
   ]
  },
  {
   "cell_type": "code",
   "execution_count": 48,
   "metadata": {},
   "outputs": [
    {
     "name": "stdout",
     "output_type": "stream",
     "text": [
      "Model saved at: d:\\idkROM\\idkROM\\results\\gaussian_process\\gp_model.pkl\n"
     ]
    }
   ],
   "source": [
    "# Usamos el set de hiperparametros encontrado por la funcion de busqueda para entrenar el modelo\n",
    "model = idkROMGaussianProcess(**best_params)\n",
    "model.train(X_train_normalized, y_train_normalized, X_val_normalized, y_val_normalized)\n",
    "\n"
   ]
  },
  {
   "cell_type": "code",
   "execution_count": 49,
   "metadata": {},
   "outputs": [
    {
     "name": "stdout",
     "output_type": "stream",
     "text": [
      "Predicciones: [[ 0.59379499  0.30266087  0.45958701 ...  0.15781325  0.15174953\n",
      "   0.03453482]\n",
      " [ 0.7467815   0.54681845  0.19843033 ...  0.11555533  0.20072701\n",
      "   0.13029213]\n",
      " [ 0.68514549  0.51602485  0.42281735 ...  0.26474846  0.19088709\n",
      "   0.10297304]\n",
      " ...\n",
      " [ 0.06619488  0.10937262  0.25476329 ...  0.49477316 -0.01345827\n",
      "   0.02442281]\n",
      " [ 0.36073756  0.23800714  0.14100647 ...  0.1890957   0.11991487\n",
      "   0.02840378]\n",
      " [ 0.56197347  0.63778301  0.19897238 ...  0.37049591  0.21413023\n",
      "   0.10043926]]\n"
     ]
    }
   ],
   "source": [
    "# Con el modelo entrenado, podemos realizar una predicción de los resultados sobre el set de test\n",
    "y_pred = model.predict(X_test_normalized)\n",
    "print(f\"Predicciones: {y_pred}\")\n"
   ]
  },
  {
   "cell_type": "code",
   "execution_count": 50,
   "metadata": {},
   "outputs": [
    {
     "name": "stdout",
     "output_type": "stream",
     "text": [
      "Predictions saved at: d:\\idkROM\\idkROM\\results\\gaussian_process\\gaussian_process_predictions.csv\n",
      "MSE en escala normalizada: 0.0008132043030541896\n",
      "MSE en escala original: 41026878691.087555\n",
      "Report saved at: d:\\idkROM\\idkROM\\results\\gaussian_process\\gaussian_process_training_summary.html\n",
      "Model and metrics saved successfully!\n"
     ]
    },
    {
     "data": {
      "text/plain": [
       "np.float64(0.0008132043030541896)"
      ]
     },
     "execution_count": 50,
     "metadata": {},
     "output_type": "execute_result"
    }
   ],
   "source": [
    "# Ahora, evaluamos el error de la predicción\n",
    "\n",
    "# Cargamos el scaler de salida guardado en el preprocesamiento\n",
    "results_path = os.path.dirname(os.path.dirname(file_path))\n",
    "results_path = os.path.join(results_path, \"results\")\n",
    "output_scaler = joblib.load(os.path.join(results_path, 'output_scaler.pkl'))\n",
    "\n",
    "if idkROMPreprocessing().scaler_type == 'minmax':\n",
    "    print(\"Mínimos originales de los outputs:\", output_scaler.data_min_)\n",
    "    print(\"Máximos originales de los outputs:\", output_scaler.data_max_)\n",
    "\n",
    "# Evaluar el modelo utilizando las predicciones\n",
    "model.evaluate(X_test_normalized, y_test_normalized, y_pred, output_scaler=output_scaler)\n",
    "\n",
    "    "
   ]
  },
  {
   "cell_type": "code",
   "execution_count": 53,
   "metadata": {},
   "outputs": [],
   "source": [
    "# la variable model es el ROM Neural Network\n",
    "report_generator = idkROMMetrics(model, None, None, X_train_normalized, y_train_normalized, X_test_normalized, y_test_normalized, 'gaussian_process')\n",
    "\n",
    "mse = mean_squared_error(y_test_normalized, y_pred)\n",
    "r2 = r2_score(y_test_normalized, y_pred)\n",
    "\n",
    "metrics_df = pd.DataFrame([{'MSE': mse, 'R²': r2}])\n",
    "\n",
    "report_generator.create_convergence_graph()\n",
    "report_generator.create_metrics_graph(metrics_df)\n",
    "\n",
    "os.chdir(original_cwd)\n",
    "\n"
   ]
  },
  {
   "cell_type": "markdown",
   "metadata": {},
   "source": [
    "4.3 Polynomial Response Surface"
   ]
  },
  {
   "cell_type": "markdown",
   "metadata": {},
   "source": [
    "4.3.1 PRS Hyperparams"
   ]
  },
  {
   "cell_type": "code",
   "execution_count": 54,
   "metadata": {},
   "outputs": [
    {
     "name": "stdout",
     "output_type": "stream",
     "text": [
      "Shape of X_train: (419, 7)\n",
      "Shape of y_train: (419, 18)\n",
      "Model saved at: d:\\idkROM\\idkROM\\results\\response_surface\\polynomial_model.pkl\n",
      "Model saved at: d:\\idkROM\\idkROM\\results\\response_surface\\polynomial_model.pkl\n",
      "Model saved at: d:\\idkROM\\idkROM\\results\\response_surface\\polynomial_model.pkl\n",
      "Model saved at: d:\\idkROM\\idkROM\\results\\response_surface\\polynomial_model.pkl\n",
      "Model saved at: d:\\idkROM\\idkROM\\results\\response_surface\\polynomial_model.pkl\n",
      "Model saved at: d:\\idkROM\\idkROM\\results\\response_surface\\polynomial_model.pkl\n",
      "Model saved at: d:\\idkROM\\idkROM\\results\\response_surface\\polynomial_model.pkl\n",
      "Model saved at: d:\\idkROM\\idkROM\\results\\response_surface\\polynomial_model.pkl\n",
      "Model saved at: d:\\idkROM\\idkROM\\results\\response_surface\\polynomial_model.pkl\n",
      "Model saved at: d:\\idkROM\\idkROM\\results\\response_surface\\polynomial_model.pkl\n"
     ]
    },
    {
     "name": "stderr",
     "output_type": "stream",
     "text": [
      "d:\\idkROM\\idkROM\\virtual_env\\Lib\\site-packages\\sklearn\\model_selection\\_search.py:317: UserWarning:\n",
      "\n",
      "The total space of parameters 6 is smaller than n_iter=10. Running 6 iterations. For exhaustive searches, use GridSearchCV.\n",
      "\n"
     ]
    },
    {
     "name": "stdout",
     "output_type": "stream",
     "text": [
      "Model saved at: d:\\idkROM\\idkROM\\results\\response_surface\\polynomial_model.pkl\n",
      "Model saved at: d:\\idkROM\\idkROM\\results\\response_surface\\polynomial_model.pkl\n",
      "Model saved at: d:\\idkROM\\idkROM\\results\\response_surface\\polynomial_model.pkl\n",
      "Model saved at: d:\\idkROM\\idkROM\\results\\response_surface\\polynomial_model.pkl\n",
      "Model saved at: d:\\idkROM\\idkROM\\results\\response_surface\\polynomial_model.pkl\n",
      "Model saved at: d:\\idkROM\\idkROM\\results\\response_surface\\polynomial_model.pkl\n",
      "Model saved at: d:\\idkROM\\idkROM\\results\\response_surface\\polynomial_model.pkl\n",
      "Model saved at: d:\\idkROM\\idkROM\\results\\response_surface\\polynomial_model.pkl\n",
      "Model saved at: d:\\idkROM\\idkROM\\results\\response_surface\\polynomial_model.pkl\n",
      "Model saved at: d:\\idkROM\\idkROM\\results\\response_surface\\polynomial_model.pkl\n",
      "Model saved at: d:\\idkROM\\idkROM\\results\\response_surface\\polynomial_model.pkl\n",
      "Model saved at: d:\\idkROM\\idkROM\\results\\response_surface\\polynomial_model.pkl\n",
      "Model saved at: d:\\idkROM\\idkROM\\results\\response_surface\\polynomial_model.pkl\n",
      "Model saved at: d:\\idkROM\\idkROM\\results\\response_surface\\polynomial_model.pkl\n",
      "Model saved at: d:\\idkROM\\idkROM\\results\\response_surface\\polynomial_model.pkl\n",
      "Model saved at: d:\\idkROM\\idkROM\\results\\response_surface\\polynomial_model.pkl\n",
      "Model saved at: d:\\idkROM\\idkROM\\results\\response_surface\\polynomial_model.pkl\n",
      "Model saved at: d:\\idkROM\\idkROM\\results\\response_surface\\polynomial_model.pkl\n",
      "Model saved at: d:\\idkROM\\idkROM\\results\\response_surface\\polynomial_model.pkl\n",
      "Model saved at: d:\\idkROM\\idkROM\\results\\response_surface\\polynomial_model.pkl\n",
      "Model saved at: d:\\idkROM\\idkROM\\results\\response_surface\\polynomial_model.pkl\n",
      "Mejores hiperparámetros encontrados:  {'degree': 2}\n",
      "Mejor score encontrado:  -0.0013569000206852242\n"
     ]
    }
   ],
   "source": [
    "# Definimos el espacio de hiperparametros\n",
    "\n",
    "# Esto se hará mediante una lectura del .yml, y no manualmente ######################################\n",
    "# Definir el espacio de hiperparámetros\n",
    "param_grid = {\n",
    "            'degree': [2, 3, 4, 5, 6, 7]\n",
    "        }\n",
    "\n",
    "best_params = idkROMHyperparameterTuner('response_surface', X_train_normalized, y_train_normalized, search_type='random', n_iter=10)"
   ]
  },
  {
   "cell_type": "markdown",
   "metadata": {},
   "source": [
    "4.1.2 Response surface training and evaluation"
   ]
  },
  {
   "cell_type": "code",
   "execution_count": 55,
   "metadata": {},
   "outputs": [
    {
     "name": "stdout",
     "output_type": "stream",
     "text": [
      "Model saved at: d:\\idkROM\\idkROM\\results\\response_surface\\polynomial_model.pkl\n"
     ]
    }
   ],
   "source": [
    "# Usamos el set de hiperparametros encontrado por la funcion de busqueda para entrenar el modelo\n",
    "model = idkROMPolynomialResponseSurface(**best_params)\n",
    "model.train(X_train_normalized, y_train_normalized, X_val_normalized, y_val_normalized)\n",
    "\n"
   ]
  },
  {
   "cell_type": "code",
   "execution_count": 56,
   "metadata": {},
   "outputs": [
    {
     "name": "stdout",
     "output_type": "stream",
     "text": [
      "Predicciones: [[ 0.57397922  0.31996446  0.43897663 ...  0.1858047   0.16481068\n",
      "   0.05533656]\n",
      " [ 0.80534645  0.58635671  0.20999492 ...  0.14250137  0.27766246\n",
      "   0.17660745]\n",
      " [ 0.67565455  0.51490002  0.42244885 ...  0.2619101   0.18987413\n",
      "   0.10996449]\n",
      " ...\n",
      " [ 0.03853296  0.12620571  0.29421301 ...  0.51336854 -0.01329701\n",
      "   0.03065587]\n",
      " [ 0.3685445   0.25546459  0.14432923 ...  0.22435942  0.16233843\n",
      "   0.0717781 ]\n",
      " [ 0.56119599  0.65956136  0.19252998 ...  0.39281345  0.20902004\n",
      "   0.10350895]]\n"
     ]
    }
   ],
   "source": [
    "# Con el modelo entrenado, podemos realizar una predicción de los resultados sobre el set de test\n",
    "y_pred = model.predict(X_test_normalized)\n",
    "print(f\"Predicciones: {y_pred}\")\n"
   ]
  },
  {
   "cell_type": "code",
   "execution_count": 57,
   "metadata": {},
   "outputs": [
    {
     "name": "stdout",
     "output_type": "stream",
     "text": [
      "Predictions saved at: d:\\idkROM\\idkROM\\results\\response_surface\\response_surface_predictions.csv\n",
      "MSE in normalized scale: 0.0006133694473505606\n",
      "MSE in original scale: 14193917124.676876\n",
      "Report saved at: d:\\idkROM\\idkROM\\results\\response_surface\\response_surface_training_summary.html\n",
      "Model and metrics saved successfully!\n"
     ]
    },
    {
     "data": {
      "text/plain": [
       "0.0006133694473505606"
      ]
     },
     "execution_count": 57,
     "metadata": {},
     "output_type": "execute_result"
    }
   ],
   "source": [
    "# Ahora, evaluamos el error de la predicción\n",
    "\n",
    "# Cargamos el scaler de salida guardado en el preprocesamiento\n",
    "results_path = os.path.dirname(os.path.dirname(file_path))\n",
    "results_path = os.path.join(results_path, \"results\")\n",
    "output_scaler = joblib.load(os.path.join(results_path, 'output_scaler.pkl'))\n",
    "\n",
    "if idkROMPreprocessing().scaler_type == 'minmax':\n",
    "    print(\"Mínimos originales de los outputs:\", output_scaler.data_min_)\n",
    "    print(\"Máximos originales de los outputs:\", output_scaler.data_max_)\n",
    "\n",
    "# Evaluar el modelo utilizando las predicciones\n",
    "model.evaluate(X_test_normalized, y_test_normalized, y_pred, output_scaler=output_scaler)\n",
    "\n",
    "    "
   ]
  },
  {
   "cell_type": "code",
   "execution_count": 58,
   "metadata": {},
   "outputs": [],
   "source": [
    "# la variable model es el ROM Neural Network\n",
    "report_generator = idkROMMetrics(model, None, None, X_train_normalized, y_train_normalized, X_test_normalized, y_test_normalized, 'response_surface')\n",
    "\n",
    "mse = mean_squared_error(y_test_normalized, y_pred)\n",
    "r2 = r2_score(y_test_normalized, y_pred)\n",
    "\n",
    "metrics_df = pd.DataFrame([{'MSE': mse, 'R²': r2}])\n",
    "\n",
    "report_generator.create_convergence_graph()\n",
    "report_generator.create_metrics_graph(metrics_df)\n",
    "\n",
    "os.chdir(original_cwd)\n",
    "\n"
   ]
  },
  {
   "cell_type": "markdown",
   "metadata": {},
   "source": [
    "4.4 Radial Basis Function"
   ]
  },
  {
   "cell_type": "markdown",
   "metadata": {},
   "source": [
    "4.4.1 RBF Hyperparams"
   ]
  },
  {
   "cell_type": "code",
   "execution_count": 59,
   "metadata": {},
   "outputs": [
    {
     "name": "stdout",
     "output_type": "stream",
     "text": [
      "Shape of X_train: (419, 7)\n",
      "Shape of y_train: (419, 18)\n",
      "Model saved at: d:\\idkROM\\idkROM\\results\\rbf\\rbf_model.pkl\n",
      "Model saved at: d:\\idkROM\\idkROM\\results\\rbf\\rbf_model.pkl\n"
     ]
    },
    {
     "name": "stderr",
     "output_type": "stream",
     "text": [
      "d:\\idkROM\\idkROM\\virtual_env\\Lib\\site-packages\\sklearn\\model_selection\\_search.py:317: UserWarning:\n",
      "\n",
      "The total space of parameters 3 is smaller than n_iter=10. Running 3 iterations. For exhaustive searches, use GridSearchCV.\n",
      "\n"
     ]
    },
    {
     "name": "stdout",
     "output_type": "stream",
     "text": [
      "Model saved at: d:\\idkROM\\idkROM\\results\\rbf\\rbf_model.pkl\n",
      "Model saved at: d:\\idkROM\\idkROM\\results\\rbf\\rbf_model.pkl\n",
      "Model saved at: d:\\idkROM\\idkROM\\results\\rbf\\rbf_model.pkl\n",
      "Model saved at: d:\\idkROM\\idkROM\\results\\rbf\\rbf_model.pkl\n",
      "Model saved at: d:\\idkROM\\idkROM\\results\\rbf\\rbf_model.pkl\n",
      "Model saved at: d:\\idkROM\\idkROM\\results\\rbf\\rbf_model.pkl\n",
      "Model saved at: d:\\idkROM\\idkROM\\results\\rbf\\rbf_model.pkl\n",
      "Model saved at: d:\\idkROM\\idkROM\\results\\rbf\\rbf_model.pkl\n",
      "Model saved at: d:\\idkROM\\idkROM\\results\\rbf\\rbf_model.pkl\n",
      "Model saved at: d:\\idkROM\\idkROM\\results\\rbf\\rbf_model.pkl\n",
      "Model saved at: d:\\idkROM\\idkROM\\results\\rbf\\rbf_model.pkl\n",
      "Model saved at: d:\\idkROM\\idkROM\\results\\rbf\\rbf_model.pkl\n",
      "Model saved at: d:\\idkROM\\idkROM\\results\\rbf\\rbf_model.pkl\n",
      "Model saved at: d:\\idkROM\\idkROM\\results\\rbf\\rbf_model.pkl\n",
      "Mejores hiperparámetros encontrados:  {'gamma': 1.0}\n",
      "Mejor score encontrado:  -0.002247244455683613\n"
     ]
    }
   ],
   "source": [
    "# Definimos el espacio de hiperparametros\n",
    "\n",
    "# Esto se hará mediante una lectura del .yml, y no manualmente ######################################\n",
    "# Definir el espacio de hiperparámetros\n",
    "param_grid = {\n",
    "            'gamma': [0.1, 1.0, 10.0]\n",
    "        }\n",
    "\n",
    "best_params = idkROMHyperparameterTuner('rbf', X_train_normalized, y_train_normalized, search_type='random', n_iter=10)"
   ]
  },
  {
   "cell_type": "markdown",
   "metadata": {},
   "source": [
    "4.4.2 RBF training and evaluation"
   ]
  },
  {
   "cell_type": "code",
   "execution_count": 60,
   "metadata": {},
   "outputs": [
    {
     "name": "stdout",
     "output_type": "stream",
     "text": [
      "Model saved at: d:\\idkROM\\idkROM\\results\\rbf\\rbf_model.pkl\n"
     ]
    }
   ],
   "source": [
    "# Usamos el set de hiperparametros encontrado por la funcion de busqueda para entrenar el modelo\n",
    "model = idkROMRBF(**best_params)\n",
    "model.train(X_train_normalized, y_train_normalized, X_val_normalized, y_val_normalized)\n",
    "\n"
   ]
  },
  {
   "cell_type": "code",
   "execution_count": 61,
   "metadata": {},
   "outputs": [
    {
     "name": "stdout",
     "output_type": "stream",
     "text": [
      "Predicciones:     F_total_int  F_total_ext  Q_total_int  Q_total_ext  P_mean_int  \\\n",
      "0      0.574548     0.294496     0.445211     0.086681    0.646906   \n",
      "1      0.736252     0.543547     0.190913    -0.024752    0.846969   \n",
      "2      0.676841     0.510532     0.426832     0.135991    0.817653   \n",
      "3      0.351524     0.272137     0.559048     0.674740    0.431883   \n",
      "4      0.174609     0.098046     0.127080     0.141426    0.195130   \n",
      "..          ...          ...          ...          ...         ...   \n",
      "85     0.234432     0.131253     0.154694     0.172408    0.299481   \n",
      "86     0.684870     0.610473     0.113445     0.056864    0.698522   \n",
      "87     0.071828     0.114082     0.271693     0.414529    0.056712   \n",
      "88     0.365924     0.248211     0.129160     0.081059    0.394293   \n",
      "89     0.560349     0.637317     0.195054     0.382653    0.708365   \n",
      "\n",
      "    P_mean_ext  P_max_int  P_max_ext  P_sd_int  P_sd_ext  h_min_int  \\\n",
      "0     0.295544   0.442121  -0.000991  0.564782  0.111982   0.559002   \n",
      "1     0.632919   0.657355   0.062453  0.745716  0.351595   0.313505   \n",
      "2     0.478810   0.472232   0.049028  0.621042  0.232647   0.487308   \n",
      "3     0.232864   0.321864   0.031919  0.365691  0.083378   0.764585   \n",
      "4     0.086125   0.148598   0.029648  0.170006  0.070565   0.547916   \n",
      "..         ...        ...        ...       ...       ...        ...   \n",
      "85    0.074322   0.201504  -0.014391  0.253722  0.009540   0.467571   \n",
      "86    0.658921   0.352393   0.104945  0.476495  0.353183   0.228888   \n",
      "87    0.078199   0.010432  -0.000517  0.021489  0.030751   0.600568   \n",
      "88    0.307499   0.402602   0.010756  0.485104  0.157341   0.441999   \n",
      "89    0.651154   0.506465   0.064184  0.667082  0.255977   0.299424   \n",
      "\n",
      "    h_min_ext  h_mean_int  h_mean_ext  h_max_int  h_max_ext  h_sd_int  \\\n",
      "0    0.397368    0.557856    0.196463   0.550072   0.133208  0.138537   \n",
      "1    0.245140    0.318427    0.071556   0.314533   0.125500  0.200204   \n",
      "2    0.437270    0.494623    0.288444   0.487585   0.260083  0.178786   \n",
      "3    0.770701    0.767184    0.698299   0.766953   0.583400  0.124102   \n",
      "4    0.570154    0.536042    0.422765   0.515959   0.345815  0.067551   \n",
      "..        ...         ...         ...        ...        ...       ...   \n",
      "85   0.489894    0.451777    0.294906   0.428134   0.199955  0.064467   \n",
      "86   0.258467    0.222554    0.122713   0.195109   0.178060  0.114533   \n",
      "87   0.732968    0.578373    0.641634   0.549407   0.516796 -0.002300   \n",
      "88   0.456823    0.427250    0.272619   0.410581   0.200019  0.116023   \n",
      "89   0.520518    0.303013    0.423419   0.297228   0.369286  0.221795   \n",
      "\n",
      "    h_sd_ext  \n",
      "0   0.023221  \n",
      "1   0.142486  \n",
      "2   0.084371  \n",
      "3   0.043612  \n",
      "4   0.046134  \n",
      "..       ...  \n",
      "85 -0.006727  \n",
      "86  0.178594  \n",
      "87  0.047754  \n",
      "88  0.038628  \n",
      "89  0.104047  \n",
      "\n",
      "[90 rows x 18 columns]\n"
     ]
    }
   ],
   "source": [
    "# Con el modelo entrenado, podemos realizar una predicción de los resultados sobre el set de test\n",
    "y_pred = model.predict(X_test_normalized)\n",
    "print(f\"Predicciones: {y_pred}\")\n"
   ]
  },
  {
   "cell_type": "code",
   "execution_count": 62,
   "metadata": {},
   "outputs": [
    {
     "name": "stdout",
     "output_type": "stream",
     "text": [
      "Predictions saved at: d:\\idkROM\\idkROM\\results\\rbf\\rbf_predictions.csv\n",
      "MSE in normalized scale: 0.0015787506811099851\n",
      "MSE in original scale: 82229559784.62984\n",
      "Report saved at: d:\\idkROM\\idkROM\\results\\rbf\\rbf_training_summary.html\n",
      "Model and metrics saved successfully!\n"
     ]
    },
    {
     "data": {
      "text/plain": [
       "0.0015787506811099851"
      ]
     },
     "execution_count": 62,
     "metadata": {},
     "output_type": "execute_result"
    }
   ],
   "source": [
    "# Ahora, evaluamos el error de la predicción\n",
    "\n",
    "# Cargamos el scaler de salida guardado en el preprocesamiento\n",
    "results_path = os.path.dirname(os.path.dirname(file_path))\n",
    "results_path = os.path.join(results_path, \"results\")\n",
    "output_scaler = joblib.load(os.path.join(results_path, 'output_scaler.pkl'))\n",
    "\n",
    "if idkROMPreprocessing().scaler_type == 'minmax':\n",
    "    print(\"Mínimos originales de los outputs:\", output_scaler.data_min_)\n",
    "    print(\"Máximos originales de los outputs:\", output_scaler.data_max_)\n",
    "\n",
    "# Evaluar el modelo utilizando las predicciones\n",
    "model.evaluate(X_test_normalized, y_test_normalized, y_pred, output_scaler=output_scaler)\n",
    "\n",
    "    "
   ]
  },
  {
   "cell_type": "code",
   "execution_count": 63,
   "metadata": {},
   "outputs": [],
   "source": [
    "# la variable model es el ROM Neural Network\n",
    "report_generator = idkROMMetrics(model, None, None, X_train_normalized, y_train_normalized, X_test_normalized, y_test_normalized, 'rbf')\n",
    "\n",
    "mse = mean_squared_error(y_test_normalized, y_pred)\n",
    "r2 = r2_score(y_test_normalized, y_pred)\n",
    "\n",
    "metrics_df = pd.DataFrame([{'MSE': mse, 'R²': r2}])\n",
    "\n",
    "report_generator.create_convergence_graph()\n",
    "report_generator.create_metrics_graph(metrics_df)\n",
    "\n",
    "os.chdir(original_cwd)\n",
    "\n"
   ]
  },
  {
   "cell_type": "markdown",
   "metadata": {},
   "source": [
    "4.5 SVR"
   ]
  },
  {
   "cell_type": "markdown",
   "metadata": {},
   "source": [
    "4.5.1 SVR Hyperparams"
   ]
  },
  {
   "cell_type": "code",
   "execution_count": 67,
   "metadata": {},
   "outputs": [],
   "source": [
    "# Definimos el espacio de hiperparametros\n",
    "\n",
    "# Esto se hará mediante una lectura del .yml, y no manualmente ######################################\n",
    "# Definir el espacio de hiperparámetros\n",
    "param_grid = {\n",
    "            'kernel': ['linear', 'poly', 'rbf', 'sigmoid'],\n",
    "            'C': [0.1, 5, 50],\n",
    "            'epsilon': [0.1, 0.2, 0]\n",
    "        }\n",
    "\n",
    "# no funciona para SVR\n",
    "# best_params = idkROMHyperparameterTuner('svr', X_train_normalized, y_train_normalized, search_type='random', n_iter=10)\n"
   ]
  },
  {
   "cell_type": "markdown",
   "metadata": {},
   "source": [
    "4.5.2 SVR training and evaluation"
   ]
  },
  {
   "cell_type": "markdown",
   "metadata": {},
   "source": [
    "/"
   ]
  }
 ],
 "metadata": {
  "kernelspec": {
   "display_name": "virtual_env",
   "language": "python",
   "name": "python3"
  },
  "language_info": {
   "codemirror_mode": {
    "name": "ipython",
    "version": 3
   },
   "file_extension": ".py",
   "mimetype": "text/x-python",
   "name": "python",
   "nbconvert_exporter": "python",
   "pygments_lexer": "ipython3",
   "version": "3.12.9"
  }
 },
 "nbformat": 4,
 "nbformat_minor": 2
}
